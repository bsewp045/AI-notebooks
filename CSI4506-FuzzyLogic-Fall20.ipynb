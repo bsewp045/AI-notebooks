{
 "cells": [
  {
   "cell_type": "markdown",
   "metadata": {},
   "source": [
    "# Notebook 1 - Logique Floue"
   ]
  },
  {
   "cell_type": "markdown",
   "metadata": {},
   "source": [
    "CSI4506 Intelligence Artificielle  \n",
    "Automne 2020  \n",
    "Preparé par Julian Templeton, Caroline Barrière et Joel Muteba"
   ]
  },
  {
   "attachments": {
    "image.png": {
     "image/png": "[encoded data removed]"
    }
   },
   "cell_type": "markdown",
   "metadata": {},
   "source": [
    "***INTRODUCTION***:   \n",
    "Nous examinerons un exemple d’application de la logique floue à un problème en utilisant la programmation. Au début du notebook, des variables linguistiques qui representeront les composantes du problème seront définies. Ces variables seront utilisées parallèlement à des règles spécifiques pour résoudre un problème. Cela se fait par l’utilisation de la fuzzification, l’application de règles d’inférence ou raisonnement, et la défuzzification du résultat.\n",
    "\n",
    "Le système de logique floue que nous construisons aidera une personne à décider de l’activité à faire et de sa durée. Cela dépendra de la proximité à la fin de semaine et du degré d'occupation de la personne. Les trois activités possibles sont: faire du yoga, jouer à des jeux et faire du ski. Les règles floues que nous définirons dans notre système de logique floue s’appliqueront à deux antécédents possibles (deux variables linguistiques) Day et Busy. Une vue d’ensemble est indiquée ci-dessous dans l’image 1.\n",
    "\n",
    "![image.png](attachment:image.png)    \n",
    "\n",
    "En effectuant tous les composants de base d’un système logique flou pour résoudre un problème, vous améliorerez votre compréhension de la façon dont la logique floue peut être appliquée aux problèmes du monde réel et comment chaque composant d’un système logique flou fonctionne.    \n",
    "\n",
    "Une note importante à garder à l’esprit lorsque vous passerez au travers du notebook est qu’il y a des classes avec une quantité importante de code, mais vous aurez seulement besoin d'**utiliser les fonctions de la classe LinguisticVariable** lors de l’exécution d’une étape qui utilise une variable de cette classe. Ainsi, ne soyez pas intimidé par la quantité de lignes de codes puisque vous aurez juste besoin d’appeler les fonctions appropriées quand cela sera nécessaire.    \n",
    "\n",
    "La bibliothèque matplotlib sera utilisée pour ce notebook. C'est une excellente bibliothèque graphique. La bibliothèque vous permet de créer de nombreux types de graphes à partir de vos données et de les personnaliser. Pour installer matplotlib, exécutez la commande suivante dans votre console : *pip install matplotlib*"
   ]
  },
  {
   "cell_type": "markdown",
   "metadata": {},
   "source": [
    "***TRAVAIL À FAIRE***:  \n",
    "\n",
    "Parcourez le notebook en exécutant chaque cellule, une à la fois. Si l'exécution d'une cellule cause une erreur, vous pouvez résoudre le problème et ré-exécuter cette cellule.  \n",
    "Recherchez **(TO DO)** pour les tâches que vous devez effectuer. Une fois que vous avez terminé, soumettez votre notebook. \n",
    "\n",
    "*Le notebook sera noté sur 30.  \n",
    "Chaque **(TO DO)** a un certain nombre de points qui lui sont associés.*\n",
    "***"
   ]
  },
  {
   "cell_type": "code",
   "execution_count": 75,
   "metadata": {},
   "outputs": [],
   "source": [
    "# Imports\n",
    "# Call pip install matplotlib in the console to install this library\n",
    "import matplotlib.pyplot as plt"
   ]
  },
  {
   "cell_type": "markdown",
   "metadata": {},
   "source": [
    "**1. Définition d'une variable linguistique.**    \n",
    "\n",
    "Une variable linguistique est représentée par son nom, ses valeurs possibles et ses sous-ensembles flous. Cela peut être représenté par un triplet (V, X, T). Les classes ci-dessous définissent chaque composante d’une variable linguistique. Le constructeur de la classe LinguisticVariable accepte son nom (V du triplet) et les noms des valeurs associées à la variable sous la forme d’une liste (X du triplet). Les sous-ensembles flous (T dans le triplet) sont ajoutés après la définition de la variable linguistique.     \n",
    "\n",
    "Une note importante au sujet de cette classe est que les valeurs possibles qui sont transmises à l’objet LinguisticVariable peuvent être de deux types :\n",
    "1. [name1, name2, name3, ..., nameN], où chaque nom est une valeur discrète associée à la variable et sont tous des strings\n",
    "2. [(num1, num2]], où num1 et num2 sont des entiers qui représentent un interval continu de nombres réels sous la forme d’un tuple     \n",
    "\n",
    "Ces valeurs possibles sont stockées dans la liste possible_values de la classe LinguisticVariable et sont ensuite transmises à la liste value_names de la classe Values.    \n",
    "\n",
    "Une autre remarque est que la classe Values stocke une liste d’équations mathématiques sous la variable *function*. Il s’agit d’une liste d’expressions lambda qui exécutent des fonctions mathématiques. Cette liste de fonctions doit avoir la même longueur que la liste des value_names. Cela permet à la liste value_names et à la liste des fonctions de contenir les informations associées dans le même index.\n",
    "\n",
    "Ex: value_names[0] --> Mardi\n",
    "    functions[0] --> lambda x: 0.0\n",
    "    Par conséquent, lorsque nous voulons trouver la valeur floue pour le mardi à une certaine valeur x, nous appelons functions[0](x) pour obtenir cette valeur          \n",
    "    \n",
    "La classe FuzzySubset contient de nombreux fonctionnalités de base qui seront utilisés dans notebook. Toutefois, vous n’aurez qu’à appeler des fonctions de la classe LinguisticVariable pour éviter la manipulation d’éléments enfants."
   ]
  },
  {
   "cell_type": "code",
   "execution_count": 76,
   "metadata": {},
   "outputs": [],
   "source": [
    "# DO NOT MAKE ANY CHANGES TO THIS CLASS\n",
    "# You will be asked to call the methods of this class, but NOT to change it\n",
    "\n",
    "class LinguisticVariable():\n",
    "    '''\n",
    "    Represents a linguistic variable that contains a name, a set of values for this variable,\n",
    "    and fuzzy subsets for the values that are used to characterise this variable.\n",
    "    '''\n",
    "    def __init__(self, variable_name, values):\n",
    "        # The name of a variable\n",
    "        self.variable_name = variable_name\n",
    "        # A list of all value names\n",
    "        self.possible_values = values\n",
    "        # The fuzzy suvbsets that characterize variable_name\n",
    "        self.fuzzy_subsets = []\n",
    "        \n",
    "    def add_fuzzy_subset(self, name, functions):\n",
    "        '''\n",
    "        Defines a fuzzy_subset of the specified name and defines functions\n",
    "        for each value pass into the constructor.\n",
    "        The functions are expected to be in the same order as the values that they are for.\n",
    "        Ex: [val1, val2, ...], [function_for_val1, function_for_val2, ...]\n",
    "        '''\n",
    "        self.fuzzy_subsets.append(FuzzySubset(name, self.possible_values, functions))\n",
    "        \n",
    "    def fuzzification(self, fs_name, x):\n",
    "        '''\n",
    "        Finds the fuzzy subset with the specified name (fs_name) and fuzzifies the value x\n",
    "        '''\n",
    "        fs_index = [fs.name.lower() for fs in self.fuzzy_subsets].index(fs_name.lower()) \n",
    "        return self.fuzzy_subsets[fs_index].fuzzification(x)\n",
    "    \n",
    "    def defuzzification_average_maximas(self, fs_name):\n",
    "        '''\n",
    "        By going through each value (increments of 0.5 for continuous variables), returns the average\n",
    "        x-location for the defuzzification of the transfered membership max_membership\n",
    "        '''\n",
    "        fs_index = [fs.name.lower() for fs in self.fuzzy_subsets].index(fs_name.lower())\n",
    "        return self.fuzzy_subsets[fs_index].defuzzification_average_maximas()\n",
    "    \n",
    "    def get_fuzzy_maximum(self, fs_name):\n",
    "        '''\n",
    "        Finds the fuzzy subset with the specified name (fs_name) and returns its maximum\n",
    "        membership degree.\n",
    "        '''\n",
    "        fs_index = [fs.name.lower() for fs in self.fuzzy_subsets].index(fs_name.lower()) \n",
    "        # Return its maximum membership\n",
    "        return self.fuzzy_subsets[fs_index].max_membership\n",
    "    \n",
    "    def set_fuzzy_maximum(self, fs_name, x):\n",
    "        '''\n",
    "        Finds the fuzzy subset with the specified name (fs_name) and assigns x to be its maximum\n",
    "        membership degree (transfers the membership to this fuzzy subset).\n",
    "        '''\n",
    "        fs_index = [fs.name.lower() for fs in self.fuzzy_subsets].index(fs_name.lower()) \n",
    "        # Since max_membership is already set to the maximum available y value, only update if\n",
    "        # x is < the current value.\n",
    "        if (x < self.fuzzy_subsets[fs_index].max_membership):\n",
    "            self.fuzzy_subsets[fs_index].max_membership = x\n",
    "        \n",
    "    def reset_fuzzy_maximums(self):\n",
    "        '''\n",
    "        When a problem is complete, this will reset the maximum_membership values\n",
    "        for all fuzzy variables back to the maxima in its function\n",
    "        '''\n",
    "        for fs in self.fuzzy_subsets:\n",
    "            if (fs.values.isRangedVariable):\n",
    "                fs.max_membership = self.reset_fuzzy_maximum_ranged(fs)\n",
    "            else:\n",
    "                fs.max_membership = self.reset_fuzzy_maximum_discrete(fs)\n",
    "            \n",
    "    def reset_fuzzy_maximum_discrete(self, fs):\n",
    "        '''\n",
    "        Returns the maxima for a fs that describes discrete variable\n",
    "        '''\n",
    "        vals = [] # The values for each value\n",
    "        # Go through the values associated with the fuzzy subset\n",
    "        for value in fs.values.value_names:\n",
    "            vals.append(fs.fuzzification(value))\n",
    "        # Set the variable's fuzzy subset maximum to be the maximum value in the plot\n",
    "        return max(vals)\n",
    "        \n",
    "    def reset_fuzzy_maximum_ranged(self, fs):\n",
    "        '''\n",
    "        Returns the maxima for a fs that describes a range of real numbers\n",
    "        '''\n",
    "        for fs in self.fuzzy_subsets:\n",
    "            vals = []\n",
    "            # Determine the number of points to compute\n",
    "            start = fs.values.value_names[0][0]\n",
    "            stop = fs.values.value_names[0][1] + 1\n",
    "            # Compute the points and store them\n",
    "            # Increment by 0.05 to capture most changes\n",
    "            for i in range(start, stop):\n",
    "                # Can use libraries to make this easier, that is somthing we will explore in future notebooks\n",
    "                for j in range(0, 20):\n",
    "                    x = i + j * 0.05\n",
    "                    vals.append(fs.fuzzification(x))\n",
    "            # Set the variable's fuzzy subset maximum to be the maximum value in the plot\n",
    "            return max(vals)\n",
    "        \n",
    "    def plot(self):\n",
    "        '''\n",
    "        Plots a linguistic variable and automatically detects the type of values that\n",
    "        it contains\n",
    "        '''\n",
    "        if (self.fuzzy_subsets[0].values.isRangedVariable):\n",
    "            self.plot_ranged_variable()\n",
    "        else:\n",
    "            self.plot_discrete_variable()\n",
    "    \n",
    "    def plot_discrete_variable(self):\n",
    "        '''\n",
    "        Plots the linguistic variable if the values are discrete\n",
    "        '''\n",
    "        fig = plt.figure()\n",
    "        axes = fig.add_axes([0, 0, 1, 1])\n",
    "        x_vals = [] # The lavels on the x-axis\n",
    "        plot_values = [] # The values for each value\n",
    "        y_label = \"Variable \" + self.variable_name\n",
    "        # Go through the fuzzy subsets (only one in this notebook)\n",
    "        fs = self.fuzzy_subsets[0]\n",
    "        # Go through the values associated with the fuzzy subset\n",
    "        for value in fs.values.value_names:\n",
    "            x_vals.append(value)\n",
    "            plot_values.append(fs.fuzzification(value))\n",
    "        # Set the variable's fuzzy subset maximum to be the maximum value in the plot\n",
    "        self.fuzzy_subsets[0].max_membership = max(plot_values)\n",
    "        # Add the values to the plot\n",
    "        axes.bar(x_vals, plot_values)\n",
    "        # Show the plot\n",
    "        plt.show()\n",
    "    \n",
    "    def plot_ranged_variable(self):\n",
    "        '''\n",
    "        Plots the linguistic variable if the values are a range\n",
    "        '''\n",
    "        x_label = \"Number of hours\" # Fixed in this notebook, otherwise would add to the tuple\n",
    "        y_label = \"Variable \" + self.variable_name\n",
    "        for fs in self.fuzzy_subsets:\n",
    "            x_points = []\n",
    "            y_points = []\n",
    "            # Determine the number of points to compute\n",
    "            start = fs.values.value_names[0][0]\n",
    "            stop = fs.values.value_names[0][1] + 1\n",
    "            # Compute the points and store them\n",
    "            # Increment by 0.05 to capture most changes\n",
    "            for i in range(start, stop):\n",
    "                # Can use libraries to make this easier, that is somthing we will explore in future notebooks\n",
    "                for j in range(0, 20):\n",
    "                    x = i + j * 0.05\n",
    "                    x_points.append(x)\n",
    "                    y_points.append(fs.fuzzification(x))\n",
    "            # Set the variable's fuzzy subset maximum to be the maximum value in the plot\n",
    "            fs.max_membership = max(y_points)\n",
    "            # Add the points to the plot\n",
    "            plt.plot(x_points, y_points, label=fs.name)\n",
    "        # Add the labels\n",
    "        plt.xlabel(x_label)\n",
    "        plt.ylabel(y_label)\n",
    "        # Define the limits of the plot\n",
    "        axes = plt.gca()\n",
    "        axes.set_xlim([self.fuzzy_subsets[0].values.value_names[0][0], self.fuzzy_subsets[0].values.value_names[0][1]])\n",
    "        axes.set_ylim(0, 1.1)\n",
    "        # Add a grid to the plot\n",
    "        plt.grid()\n",
    "        # Add a legend to the plot\n",
    "        plt.legend()\n",
    "        # Show the plot\n",
    "        plt.show()"
   ]
  },
  {
   "cell_type": "code",
   "execution_count": 77,
   "metadata": {},
   "outputs": [],
   "source": [
    "# DO NOT MAKE ANY CHANGES TO THIS CLASS\n",
    "# This class is used by the LinguisticVariable class.  You will NOT make any calls to this class.\n",
    "\n",
    "class Values():\n",
    "    '''\n",
    "    Stores the names of the values and a list of functions that describe the value for a fuzzy subset.\n",
    "    values: A list of the names of the values. If a numerical range, the list will only contain\n",
    "            a tuple of the form [(num1, num2)] to represent the range between num1 and num2.\n",
    "            Otherwise it will be of the form [name1, name2, ..., nameN].\n",
    "            Assumes that discrete items are strings (so if a number, store as a string)\n",
    "    '''\n",
    "    def __init__(self, value_names, functions):\n",
    "        # True if the first element is a tuple of two integers (num1, num2)\n",
    "        self.isRangedVariable = False\n",
    "        if type(value_names[0]) is tuple:\n",
    "            self.isRangedVariable = True\n",
    "        # The names or range of the values\n",
    "        self.value_names = value_names\n",
    "        # The functions used to compute values for each value (if range, an equation)\n",
    "        # The index is the same as the value index\n",
    "        self.functions = functions"
   ]
  },
  {
   "cell_type": "code",
   "execution_count": 78,
   "metadata": {},
   "outputs": [],
   "source": [
    "# DO NOT MAKE ANY CHANGES TO THIS CLASS\n",
    "# This class is used by the LinguisticVariable class.  You will NOT make any calls to this class.\n",
    "\n",
    "class FuzzySubset():\n",
    "    '''\n",
    "    Represents a single fuzzy subset.\n",
    "    Accepts a name, list of values, and list of lambda equations as input.\n",
    "    The values are stored as a Values object which also contain the functions that the\n",
    "    fuzzy subset maps to each value.\n",
    "    The max_membership parameter represents the maximum membership value that can be given\n",
    "    at a given point in time.\n",
    "    '''\n",
    "    def __init__(self, name, values, functions):\n",
    "        self.name = name\n",
    "        self.values = Values(values, functions)\n",
    "        self.max_membership = 1\n",
    "        \n",
    "    def fuzzification(self, x):\n",
    "        '''\n",
    "        Returns the membership value for the value x\n",
    "        x: The value to be used\n",
    "        '''\n",
    "        membership = -1\n",
    "        if self.values.isRangedVariable:\n",
    "            # If a range, then x is the value within the range\n",
    "            membership = self.values.functions[0](x)\n",
    "        else:\n",
    "            # If not a range, then x represents the index for the appropriate value\n",
    "            value_index = [val.lower() for val in self.values.value_names].index(x.lower()) \n",
    "            membership = self.values.functions[value_index](0)\n",
    "        return membership\n",
    "    \n",
    "    def defuzzification_average_maximas(self):\n",
    "        '''\n",
    "        Using the max_membership value, finds all values >= that value since they are the\n",
    "        maximas after the transferring of membership degree.\n",
    "        Loops through all key points in the plot (since it can be a continuous value) and\n",
    "        averages the x values that are >= max_membership\n",
    "        '''\n",
    "        x_points = []\n",
    "        # Determine the number of points to compute\n",
    "        start = self.values.value_names[0][0]\n",
    "        stop = self.values.value_names[0][1] + 1\n",
    "        # Compute the points and store all maxima x-values\n",
    "        # Increment by 0.05 to capture most changes\n",
    "        for i in range(start, stop):\n",
    "            # Can use libraries to make this easier, that is somthing we will explore in future notebooks\n",
    "            for j in range(0, 20):\n",
    "                x = i + j * 0.05\n",
    "                # Store only if the y-value is a maxima\n",
    "                if self.fuzzification(x) >= self.max_membership:\n",
    "                    x_points.append(x)\n",
    "        # Return the average of all x-values\n",
    "        return sum(x_points) / len(x_points)"
   ]
  },
  {
   "cell_type": "markdown",
   "metadata": {},
   "source": [
    "**2. Création des objets LinguisticVariable.**\n",
    "\n",
    "Avec les définitions de classe ci-dessus, nous sommes maintenant en mesure de définir les différentes variables linguistiques qui seront utilisées dans ce notebook. Les variables suivantes seront définies :   \n",
    "1. *Day*: Les valeurs sont les jours de la semaine et il n’y a qu’un seul fuzzy_subset (sous-ensemble flou) nommé *Weekend*. C’est un antécédent.\n",
    "2. *Busy*: Les valeurs sont toutes des nombres réels dans l'interval [0, 10], représentant le nombre d’heures et il y a trois sous-ensembles flous {Little, Moderate, Very}. C’est un antécédent.\n",
    "3. *Activity*: Les valeurs sont toutes des nombres réels dans la plage [0, 10], représentant le nombre d’heures et il y a actuellement deux sous-ensembles flous {Ski, Yoga} (vous définirez un troisième plus tard). C’est une conséquence."
   ]
  },
  {
   "cell_type": "markdown",
   "metadata": {},
   "source": [
    "La première variable linguistique à définir est pour la variable Day. Ci-dessous, vous avez toutes les étapes pour définir la variable (définir les valeurs, les variables floues et définir les fonctions pour faire correspondre une variable floue à chaque valeur)."
   ]
  },
  {
   "cell_type": "code",
   "execution_count": 79,
   "metadata": {},
   "outputs": [
    {
     "name": "stdout",
     "output_type": "stream",
     "text": [
      "The Weekend membership for the value Thursday is 0.3\n"
     ]
    }
   ],
   "source": [
    "# Start by defining the values (each dayy of the week)\n",
    "day_values = [\"Sunday\", \"Monday\", \"Tuesday\", \"Wednesday\", \"Thursday\", \"Friday\", \"Saturday\"]\n",
    "# Define the Day linguistic variable\n",
    "day_lv = LinguisticVariable(\"Day\", day_values)\n",
    "# Begin defining the functions for the Weekend fuzzy subset (a function for each value)\n",
    "day_functions = []\n",
    "# For Sunday\n",
    "day_functions.append(lambda x: 0.95)\n",
    "# For Monday\n",
    "day_functions.append(lambda x: 0.0)\n",
    "# For Tuesday\n",
    "day_functions.append(lambda x: 0.0)\n",
    "# For Wednesday\n",
    "day_functions.append(lambda x: 0.0)\n",
    "# For Thursday\n",
    "day_functions.append(lambda x: 0.3)\n",
    "# TODO: See (TODO) Q1 below\n",
    "# For Friday\n",
    "day_functions.append(lambda x: 0.7)\n",
    "# For Saturday\n",
    "day_functions.append(lambda x: 1.0)\n",
    "# Setup the Weekend fuzzy element in the linguistic variable\n",
    "day_lv.add_fuzzy_subset(\"Weekend\", day_functions)\n",
    "\n",
    "# Show the value for Thursday\n",
    "chosenDay = \"Thursday\"\n",
    "# For the first fuzzy subset (weekend), what is the membership of Thursday?\n",
    "chosenDayMembership = day_lv.fuzzy_subsets[0].fuzzification(\"Thursday\")\n",
    "print(\"The Weekend membership for the value \" + chosenDay + \" is \" + str(chosenDayMembership))"
   ]
  },
  {
   "cell_type": "markdown",
   "metadata": {},
   "source": [
    "Avec la variable linguistique *day_lv* définie, nous allons la tracer pour voir le graphique"
   ]
  },
  {
   "cell_type": "code",
   "execution_count": 80,
   "metadata": {},
   "outputs": [
    {
     "data": {
      "image/png": "[encoded data removed]",
      "text/plain": [
       "<Figure size 432x288 with 1 Axes>"
      ]
     },
     "metadata": {
      "needs_background": "light"
     },
     "output_type": "display_data"
    }
   ],
   "source": [
    "# Plot the linguistic variable\n",
    "day_lv.plot()"
   ]
  },
  {
   "cell_type": "markdown",
   "metadata": {},
   "source": [
    "**(TO DO) Q1 - 1 point** \n",
    "\n",
    "Dans day_lv vous voyez que le vendredi est considéré comme week-end à 0,5 (valeur d'adhésion ou membership sur l'échelle définie plus haut).  C’est trop bas, puisque vendredi est proche du week-end.  Modifiez le code ci-dessus (et réexécutez la cellule) pour que le vendredi soit condidéré comme week-end à 0,7."
   ]
  },
  {
   "attachments": {
    "image.png": {
     "image/png": "[encoded data removed]"
    }
   },
   "cell_type": "markdown",
   "metadata": {},
   "source": [
    "**(TO DO) Q2 - 3 points** \n",
    "\n",
    "Avec day_lv défini, nous devons maintenant définir busy_lv pour la variable linguistique *Busy*. En suivant les modèles de code ci-dessous, continuez la définition de busy_lv.   \n",
    "\n",
    "Rappelez-vous que selon la description définie au début de la section 2, cette variable utilise une valuer continue dans un interval. Ces values_names sont définis par un seul tuple d’entiers [(num1, num2)] plutôt qu’une liste de strings.\n",
    "\n",
    "La figure suivante (*Image 2*) montre à quoi doit ressembler le ggraphe de la variable linguistique Busy lorsque vous exécutez la cellule suivante. Vous devrez compléter la définition de busy_lv en trouvant la fonction correcte à passer pour le sous-ensemble de floue *Very*. Des exemples de la façon dont ces équations mathématiques sont définies et ajoutées sont indiqués ci-dessous (les expressions lambda).\n",
    "\n",
    "![image.png](attachment:image.png)"
   ]
  },
  {
   "cell_type": "code",
   "execution_count": 115,
   "metadata": {},
   "outputs": [
    {
     "name": "stdout",
     "output_type": "stream",
     "text": [
      "(0, 10)\n"
     ]
    },
    {
     "data": {
      "image/png": "[encoded data removed]",
      "text/plain": [
       "<Figure size 432x288 with 1 Axes>"
      ]
     },
     "metadata": {
      "needs_background": "light"
     },
     "output_type": "display_data"
    }
   ],
   "source": [
    "# Define the Busy linguistic variable\n",
    "busy_values = [(0, 10)]\n",
    "# TODO: Define the linguistic variable busy_lv\n",
    "busy_lv = LinguisticVariable(\"Busy\", busy_values)\n",
    "busy_functions = []\n",
    "\n",
    "# Define functions for the Little fuzzy set\n",
    "# For (0, 10)\n",
    "busy_functions = [lambda x: -x+3 if 2<=x<=3 else (1 if 0<=x<=2 else 0)]\n",
    "# Setup the Little fuzzy element\n",
    "busy_lv.add_fuzzy_subset(\"Little\", busy_functions)\n",
    "\n",
    "# Define functions for the Moderate fuzzy set\n",
    "# For (0, 10)\n",
    "busy_functions = [lambda x: (x-2)/2 if 2<=x<=4 else ((-x+7)/2 if 5<=x<=7 else (1 if 4<=x<=5 else 0))]\n",
    "# Setup the Moderate fuzzy element\n",
    "busy_lv.add_fuzzy_subset(\"Moderate\", busy_functions)\n",
    "\n",
    "# TODO: Setup the Very busy function and add that fuzzy set\n",
    "# Define functions for the Very fuzzy set\n",
    "# For (0, 10)\n",
    "busy_functions = [lambda x: (x-6)/2 if 6<=x<=8 else(1 if 8<=x<=10 else 0)]\n",
    "# Setup the Very fuzzy element\n",
    "busy_lv.add_fuzzy_subset(\"Very\" , busy_functions)\n",
    "\n",
    "# Show an example output\n",
    "print(busy_lv.fuzzy_subsets[0].values.value_names[0])\n",
    "busy_lv.fuzzy_subsets[0].values.functions[0](0.1234345)\n",
    "\n",
    "# Plot the graph\n",
    "busy_lv.plot()"
   ]
  },
  {
   "attachments": {
    "image.png": {
     "image/png": "[encoded data removed]"
    }
   },
   "cell_type": "markdown",
   "metadata": {},
   "source": [
    "**(TO DO) Q3 - 4 points**  \n",
    "\n",
    "Maintenant que nous avons défini les variables linguistiques *Day* et *Busy*, vous définirez la variable linguistique *Activity*. défini par activity_lv. Cette variable contient trois sous-ensembles flous : Yoga, Ski et Jeux. Les valeurs de cette variable sont toutes des nombres réels dans l'interval [0, 10].   \n",
    "\n",
    "Ci-dessous est un graph (*Image 3*) de ce à quoi la variable doit ressembler après l’exécution de la cellule ci-dessous. Vous devez définir les fonctions du sous-ensemble flou *Ski* et le sous-ensemble flou *Play games* pour parvenir au graphe ci-dessous.\n",
    "\n",
    "![image.png](attachment:image.png)"
   ]
  },
  {
   "cell_type": "code",
   "execution_count": 117,
   "metadata": {},
   "outputs": [
    {
     "name": "stdout",
     "output_type": "stream",
     "text": [
      "(0, 10)\n"
     ]
    },
    {
     "data": {
      "image/png": "[encoded data removed]",
      "text/plain": [
       "<Figure size 432x288 with 1 Axes>"
      ]
     },
     "metadata": {
      "needs_background": "light"
     },
     "output_type": "display_data"
    }
   ],
   "source": [
    "# TODO: Instantiate the Activity linguistic variable\n",
    "# Define the Activity linguistic variable\n",
    "activity_values = [(0,10)]\n",
    "activity_lv = LinguisticVariable(\"Activity\" , activity_values)\n",
    "activity_functions = []\n",
    "\n",
    "# TODO: Define the function and add the fuzzy set\n",
    "# Define functions for the Ski fuzzy set\n",
    "# For (0, 10)\n",
    "activity_functions = [lambda x: 0 if 0<=x<=1 else ((x-1)/5 if 1<=x<=6 else 1 )]\n",
    "# Setup the ski fuzzy element\n",
    "activity_lv.add_fuzzy_subset(\"Ski\", activity_functions)\n",
    "\n",
    "# Define functions for the Yoga fuzzy set\n",
    "# For (0, 10)\n",
    "activity_functions = [lambda x: x/1.75 if 0<=x<=1.75 else ((-x+3)/1.25 if 1.75<=x<=3 else 0)]\n",
    "# Setup the yoga fuzzy element\n",
    "activity_lv.add_fuzzy_subset(\"Yoga\", activity_functions)\n",
    "\n",
    "# TODO: Define the function and add the fuzzy set\n",
    "# Define functions for the Play games fuzzy set\n",
    "# For (0, 10)\n",
    "activity_functions = [lambda x: x/10 if 3<=x<=7 else (0 if 0<=x<=3 else 1) ]\n",
    "# Setup the Play games fuzzy element\n",
    "activity_lv.add_fuzzy_subset(\"Play games\", activity_functions)\n",
    "\n",
    "# Show an example output\n",
    "print(activity_lv.fuzzy_subsets[0].values.value_names[0])\n",
    "activity_lv.fuzzy_subsets[1].values.functions[0](2)\n",
    "\n",
    "# Plot the graph\n",
    "activity_lv.plot()"
   ]
  },
  {
   "cell_type": "markdown",
   "metadata": {},
   "source": [
    " Nous allons maintenant tracer tous les graphiques à nouveau pour voir les variables linguistiques."
   ]
  },
  {
   "cell_type": "code",
   "execution_count": 118,
   "metadata": {},
   "outputs": [
    {
     "data": {
      "image/png": "[encoded data removed]",
      "text/plain": [
       "<Figure size 432x288 with 1 Axes>"
      ]
     },
     "metadata": {
      "needs_background": "light"
     },
     "output_type": "display_data"
    },
    {
     "data": {
      "image/png": "[encoded data removed]",
      "text/plain": [
       "<Figure size 432x288 with 1 Axes>"
      ]
     },
     "metadata": {
      "needs_background": "light"
     },
     "output_type": "display_data"
    },
    {
     "data": {
      "image/png": "[encoded data removed]",
      "text/plain": [
       "<Figure size 432x288 with 1 Axes>"
      ]
     },
     "metadata": {
      "needs_background": "light"
     },
     "output_type": "display_data"
    }
   ],
   "source": [
    "# Plot everything with matplot\n",
    "day_lv.plot()\n",
    "busy_lv.plot()\n",
    "activity_lv.plot()"
   ]
  },
  {
   "cell_type": "markdown",
   "metadata": {},
   "source": [
    "**3. Définition des règles floues if-then.**  \n",
    "\n",
    "Maintenant que les variables linguistiques ont été définies, les règles floues if-then (qui seront simplement appelées règles) peuvent être définies pour être utilisées lors du raisonnement. Ces règles peuvent être définies avec les opérateurs flous *NOT*, *AND*, et *OR*. Les règles définies dans cette section seront utilisées ultérieurement avec les fonctions *NOT*, *AND* et *OR* qui seront complétées dans cette section."
   ]
  },
  {
   "cell_type": "markdown",
   "metadata": {},
   "source": [
    "Voici les deux premières règles qui seront examinées dans le reste du Notebook.     \n",
    "***\n",
    "*Règle 1* - Si c’est le *week-end* et que je suis *Très occupé*, je vais aller au *Yoga* (If it is the *Weekend* and I am *Very Busy*, I will go to *Yoga*)\n",
    "            \n",
    "*Règle 2* - Si c’est le *Week-end* et que je suis un *Peu Occupé* ou *Modérément Occupé*, je vais aller au *Ski* (If it is the *Weekend* and I am a *Little Busy* or *Moderately Busy*, I will go to *Ski*)\n",
    "***"
   ]
  },
  {
   "cell_type": "markdown",
   "metadata": {},
   "source": [
    "**(TO DO) Q4 - 1 point**  \n",
    "\n",
    "Dans cette cellule, définissez une 3ième règle de votre choix en français.  Votre règle doit contenir *exactement un opérateur flou OR*, avec *exactement un opérateur flou NOT*, et où la conséquence est l’activité *Play Games*.   \n",
    "***        \n",
    "*Règle 3* - Si ce n'est pas le Week-end ou je suis Modérément Occupé, je vais jouer aux jeux.\n",
    "***"
   ]
  },
  {
   "cell_type": "markdown",
   "metadata": {},
   "source": [
    "Ensuite, les opérateurs de logique floue doivent tous être implémentés. La fonction (complète) *fuzzy_NOT* suivante est fournie comme exemple."
   ]
  },
  {
   "cell_type": "code",
   "execution_count": 60,
   "metadata": {},
   "outputs": [],
   "source": [
    "def fuzzy_NOT(num):\n",
    "    '''\n",
    "    Provides the returned result for the fuzzy logic NOT operator.\n",
    "    num1: The first membership value\n",
    "    num2: The second membership value\n",
    "    returns the numerical fuzzy_NOT operator's result when applied on num1 and num2 rounded to\n",
    "        the second decimal place (due to floating point imprecisions)\n",
    "    '''\n",
    "    return round(1 - num, 2) "
   ]
  },
  {
   "cell_type": "markdown",
   "metadata": {},
   "source": [
    "**(TO DO) Q5 - 2 points**  \n",
    "\n",
    "Dans les deux cellules ci-dessous, complétez les définitions des fonctions fuzzy_OR et fuzzy_AND. Pour plus de détails sur ces fonctions, consultez vos notes de cours."
   ]
  },
  {
   "cell_type": "code",
   "execution_count": 84,
   "metadata": {},
   "outputs": [],
   "source": [
    "# TODO: Complete the function\n",
    "def fuzzy_OR(num1,num2):\n",
    "    '''\n",
    "    Provides the returned result for the fuzzy logic OR operator.    \n",
    "    '''\n",
    "    return max(num1, num2)"
   ]
  },
  {
   "cell_type": "code",
   "execution_count": 85,
   "metadata": {},
   "outputs": [],
   "source": [
    "# TODO: Complete the function\n",
    "def fuzzy_AND(num1,num2):\n",
    "    '''\n",
    "    Provides the returned result for the fuzzy logic AND operator.\n",
    "    '''\n",
    "    return min(num1, num2)"
   ]
  },
  {
   "cell_type": "markdown",
   "metadata": {},
   "source": [
    "**4. Fuzzification.**  \n",
    "La première étape pour résoudre un problème est d’effectuer la *fuzzification*. Ce processus a déjà été programmé pour vous dans la classe LinguisticVariable. Cette fonction *.fuzzification(fs_name, x)* nécessite le nom du sous-ensemble flou et la valeur dont vous souhaitez obtenir l’appartenance du sous-ensemble flou à l’entrée."
   ]
  },
  {
   "cell_type": "markdown",
   "metadata": {},
   "source": [
    "Jetons un coup d’œil à l’exemple de fuzzification suivant. Ceci fuzzifie l’instruction suivante:   \n",
    "*C’est jeudi et ce premier module me prendra 2,5 heures à faire.*"
   ]
  },
  {
   "cell_type": "code",
   "execution_count": 119,
   "metadata": {},
   "outputs": [
    {
     "name": "stdout",
     "output_type": "stream",
     "text": [
      "It is Thursday and this first module will take me 2.5 hours to do.\n",
      "Thursday has the membership 0.3 for being the Weekend.\n",
      "2.5 hours has the membership 0.5 for being Little busy\n",
      "2.5 hours has the membership 0.25 for being Moderate busy\n",
      "2.5 hours has the membership 0 for being Very busy\n"
     ]
    }
   ],
   "source": [
    "print(\"It is Thursday and this first module will take me 2.5 hours to do.\")\n",
    "# The first value is Thursday, so we will get the membership of weekend for the value Thursday\n",
    "weekend_membership_test = day_lv.fuzzification(\"Weekend\", \"Thursday\")\n",
    "print(\"Thursday has the membership \" + str(weekend_membership_test) + \" for being the Weekend.\")\n",
    "# The second value is that the work will be 2.5 hours, so how Little, Moderate, and Very busy is that?\n",
    "little_membership_test = busy_lv.fuzzification(\"Little\", 2.5)\n",
    "print(\"2.5 hours has the membership \" + str(little_membership_test) + \" for being Little busy\")\n",
    "moderate_membership_test = busy_lv.fuzzification(\"Moderate\", 2.5)\n",
    "print(\"2.5 hours has the membership \" + str(moderate_membership_test) + \" for being Moderate busy\")\n",
    "very_membership_test = busy_lv.fuzzification(\"Very\", 2.5)\n",
    "print(\"2.5 hours has the membership \" + str(very_membership_test) + \" for being Very busy\")"
   ]
  },
  {
   "cell_type": "markdown",
   "metadata": {},
   "source": [
    "ATTENTION --- Le problème que nous voudrons résoudre à partir de maintenant est le suivant: \n",
    "***\n",
    "\n",
    "    Déclaration du problème: C’est vendredi et j’ai encore 4 heures de travail à faire. Quelle activité vais-je faire et pour combien de temps?\n",
    "***\n",
    "    \n",
    "Ce problème sera utilisé pour les prochaines sections, alors assurez-vous de vous y référer en cas de besoin. "
   ]
  },
  {
   "cell_type": "markdown",
   "metadata": {},
   "source": [
    "**(TO DO) Q6 - 2 points**\n",
    "\n",
    "Effectuez la fuzzification pour le problème (défini ci-dessus) dans la cellule ci-dessous."
   ]
  },
  {
   "cell_type": "code",
   "execution_count": 120,
   "metadata": {},
   "outputs": [
    {
     "name": "stdout",
     "output_type": "stream",
     "text": [
      "Friday has the membership 0.7 for being the Weekend\n",
      "4 hours has the membership 0 for being Little Busy\n",
      "4 hours has the membership 1.0 for being Moderate Busy\n",
      "4 hours has the membership 0 for being Very Busy\n"
     ]
    }
   ],
   "source": [
    "# TODO: Add in the fuzzification calls for the appropriate linguistic variables.\n",
    "# Weekend fuzzification\n",
    "weekend_membership = day_lv.fuzzification(\"Weekend\" , \"Friday\")\n",
    "print(\"Friday has the membership \" + str(weekend_membership) + \" for being the Weekend\")\n",
    "# Little fuzzification\n",
    "little_membership = busy_lv.fuzzification(\"Little\" , 4)\n",
    "print(\"4 hours has the membership \" + str(little_membership) + \" for being Little Busy\")\n",
    "# Moderate fuzzification\n",
    "moderate_membership = busy_lv.fuzzification(\"Moderate\" , 4)\n",
    "print(\"4 hours has the membership \" + str(moderate_membership) + \" for being Moderate Busy\")\n",
    "# Very fuzzification\n",
    "very_membership = busy_lv.fuzzification(\"Very\" , 4)\n",
    "print(\"4 hours has the membership \" + str(very_membership) + \" for being Very Busy\")"
   ]
  },
  {
   "cell_type": "markdown",
   "metadata": {},
   "source": [
    "**5. Application des règles d'inférences ou de raisonnements.**  \n",
    "\n",
    "Maintenant que la fuzzification de l’énoncé du problème est terminée, nous pouvons commencer à appliquer les opérateurs de logique floue qui ont été programmés ci-dessus en nous servant des règles que nous avons définies dans la partie 3 de ce notebook.     \n",
    "\n",
    "Vous trouverez ci-dessous un exemple d’application des opérateurs de la règle 1 avec les données de fuzzification de l’étape précédente.  \n",
    "\n",
    "Lors de l’application des règles d’inférence, nous établissons la priorité suivante (ordre d’application des opérateurs):   \n",
    "1. fuzzy_NOT: Toutes les instances de NOT doivent être appliquées en premier\n",
    "2. fuzzy_OR : Toutes les instances de OR doivent être appliquées ensuite\n",
    "3. fuzzy_AND: Toutes les instances de AND doivent être appliquées en dernier"
   ]
  },
  {
   "cell_type": "code",
   "execution_count": 121,
   "metadata": {},
   "outputs": [
    {
     "name": "stdout",
     "output_type": "stream",
     "text": [
      "Rule 1 - If it is the Weekend and I am Very Busy, I will go to Yoga.\n",
      "The membership value for Yoga is 0\n"
     ]
    }
   ],
   "source": [
    "print(\"Rule 1 - If it is the Weekend and I am Very Busy, I will go to Yoga.\")\n",
    "# If it is the Weekend AND I am Very busy -> What is the membership of going to yoga\n",
    "rule1_membership_test = fuzzy_AND(weekend_membership_test, very_membership_test)\n",
    "print(\"The membership value for Yoga is \" + str(rule1_membership_test))"
   ]
  },
  {
   "cell_type": "markdown",
   "metadata": {},
   "source": [
    "**(TO DO) Q7 - 2 points**  \n",
    "\n",
    "Pour chacune des trois règles définies dans la partie 3 de ce notebook, les deux fournies et celle que vous avez écrite, appliquez correctement les opérateurs pour mettre en place les règles. Cela doit être fait dans la cellule ci-dessous, avec les résultats formatés comme on le voit dans l’exemple ci-dessus. La règle 1 a été indiquée dans la cellule précédente et a déjà été définie pour vous ci-dessous."
   ]
  },
  {
   "cell_type": "code",
   "execution_count": 122,
   "metadata": {},
   "outputs": [
    {
     "name": "stdout",
     "output_type": "stream",
     "text": [
      "Rule 1 - If it is the Weekend and I am Very Busy, I will go to Yoga.\n",
      "The membership value for Yoga is 0\n",
      "Rule 2 - If it is the Weekend and I am a Little Busy or Moderately Busy, I will go to Ski.\n",
      "The membership value for Ski is 0.7\n",
      "Rule 3 - If it is not the Weekend or I am Moderately Busy, I will Play games\n",
      "The membership value for Play games is 1.0\n"
     ]
    }
   ],
   "source": [
    "# RULE 1\n",
    "print(\"Rule 1 - If it is the Weekend and I am Very Busy, I will go to Yoga.\")\n",
    "rule1_membership = fuzzy_AND(weekend_membership, very_membership)\n",
    "print(\"The membership value for Yoga is \" + str(rule1_membership))\n",
    "\n",
    "#TODO\n",
    "# RULE 2\n",
    "print(\"Rule 2 - If it is the Weekend and I am a Little Busy or Moderately Busy, I will go to Ski.\")\n",
    "rule2_membership = fuzzy_AND(weekend_membership, fuzzy_OR(little_membership , moderate_membership))\n",
    "print(\"The membership value for Ski is \" + str(rule2_membership))\n",
    "\n",
    "#TODO\n",
    "# RULE 3\n",
    "print(\"Rule 3 - If it is not the Weekend or I am Moderately Busy, I will Play games\")\n",
    "rule3_membership = fuzzy_OR(fuzzy_NOT(weekend_membership), moderate_membership)\n",
    "print(\"The membership value for Play games is \" + str(rule3_membership))"
   ]
  },
  {
   "cell_type": "markdown",
   "metadata": {},
   "source": [
    "**(TO DO) Q8 - 2 points**  \n",
    "\n",
    "Nous devons maintenant transférer le degré d'appartenance de l’antécédent sur la conséquence de chaque règle. Cela se fait en appelant la fonction LinguisticVariable.set_fuzzy_maximum(fs_name, x). Cette fonction transfère le degré d’adhésion x à un sous-ensemble flou dont le nom est fs_name (dans ce cas, la conséquence).   \n",
    "\n",
    "Votre tâche consiste à transférer les adhésions obtenues ci-dessus sur les sous-ensembles flous d’activité correspondants."
   ]
  },
  {
   "cell_type": "code",
   "execution_count": 123,
   "metadata": {},
   "outputs": [],
   "source": [
    "# TODO: Transfer the membership degrees to the activity_lv fuzzy subsets \n",
    "yoga_membership = activity_lv.set_fuzzy_maximum(\"Yoga\", rule1_membership)\n",
    "ski_membership = activity_lv.set_fuzzy_maximum(\"Ski\" , rule2_membership)\n",
    "play_games_membership = activity_lv.set_fuzzy_maximum(\"Play games\", rule3_membership)"
   ]
  },
  {
   "cell_type": "markdown",
   "metadata": {},
   "source": [
    "**6. Défuzzification.**  \n",
    "\n",
    "La dernière étape pour résoudre l’énoncé de problème est d’effectuer la défuzzification. Ce processus consiste à prendre une entrée floue et à produire une sortie nette basée sur l’une des nombreuses méthodes potentielles. Pour ce notebook, nous utiliserons la moyenne des valeurs de l'axe x pour lesquelles apparaissent les valeurs maximales trouvées sur l’axe y. Bien que des méthodes plus robustes existent, nous allons simplement récupérer les emplacements des valeurs maximales en récupérant de nombreux points clés du graphe et en faisant la moyenne des valeurs x qui produisent la valeur y maximale.   \n",
    "  \n",
    "Dans la section précédente, vous avez transféré les adhésions que vous avez obtenues pour qu'elles soient le degré d’adhésion maximum de la conséquence. Ainsi, la valeur maximale y apparaît à chaque point supérieur ou égal à l’appartenance transférée (s’il y en a), ou à la valeur maximale globale autrement.   \n",
    "\n",
    "La défuzzification doit être appliquée *uniquement* au sous-ensemble flou qui contient le plus haut transfert"
   ]
  },
  {
   "cell_type": "markdown",
   "metadata": {},
   "source": [
    "**(TO DO) Q9 - 4 points**   \n",
    "\n",
    "Votre tâche est maintenant d’effectuer le processus de défuzzification et de répondre à l’énoncé de problème. Il s’agit de trois parties que vous devez compléter.    \n",
    " \n",
    "1. Trouvez quel sous-ensemble flou correspondant à la variable linguistique Activity contient la valeur d’adhésion la plus haute ou importante après le transfert d’adhésion que vous avez effectué à la question 8. Vous pouvez accéder à la valeur d’appartenance maximale d’un sous-ensemble flou dans une variable linguistique en appelant *LinguisticVariable.get_fuzzy_maximum(fs_name)*, où fs_name est le nom du sous-ensemble flou. Vous devez imprimer le nom du sous-ensemble flou avec la valeur d’appartenance la plus importante (à partir des appels de fonction) et la valeur d’accompagnement.     \n",
    "2. Pour seul le sous-ensemble flou qui contient la valeur d’appartenance maximale (l’activité sélectionnée), effectuez la défuzzification sur son adhésion maximale pour obtenir la sortie nette. Pour effectuer cette défuzzification en effectuant la moyenne des maxima, appelez la fonction *LinguisticVariable.defuzzification_average_maximas(fs_name)*, où fs_name est le nom du sous-ensemble de la variable floue. Imprimez la sortie nette.     \n",
    "3. À partir de ce qui précède, remplissez la cellule fournie avec la solution à l’instruction de problème (quelle activité sera effectuée et pour combien de temps). "
   ]
  },
  {
   "cell_type": "code",
   "execution_count": 124,
   "metadata": {},
   "outputs": [
    {
     "name": "stdout",
     "output_type": "stream",
     "text": [
      "The maximum membership is 1 for the fuzzy subset Play games\n"
     ]
    }
   ],
   "source": [
    "# (TO DO) Q9 - Part 1\n",
    "# TODO: Determine which fuzzy subset contains the maximum membership value\n",
    "# Transférer le degreé d'appartenance à l'ensemnble flou Yoga\n",
    "max_yoga = activity_lv.get_fuzzy_maximum(\"Yoga\")\n",
    "\n",
    "# Transférer le degreé d'appartenance à l'ensemnble flou Ski\n",
    "max_ski = activity_lv.get_fuzzy_maximum(\"Ski\")\n",
    "\n",
    "# Transférer le degreé d'appartenance à l'ensemnble flou Play games\n",
    "max_play_games = activity_lv.get_fuzzy_maximum(\"Play games\")\n",
    "\n",
    "# Trouver l'ensemble flou qui a le niveau d'appartenance le plus élevée\n",
    "max_value = max(max_yoga, max_ski, max_play_games)\n",
    "fsname=\"\"\n",
    "if max_value == max_yoga:\n",
    "    fsname = \"Yoga\"\n",
    "elif max_value == max_ski:\n",
    "    fsname = \"Ski\"\n",
    "else:\n",
    "    fsname = \"Play games\"\n",
    "\n",
    "...\n",
    "# TODO: Print the maximum mebership value and the name of the fuzzy subset\n",
    "print(\"The maximum membership is \" + str(max_value) + \" for the fuzzy subset \" + fsname)"
   ]
  },
  {
   "cell_type": "code",
   "execution_count": 125,
   "metadata": {},
   "outputs": [
    {
     "name": "stdout",
     "output_type": "stream",
     "text": [
      "The defuzzification value is 9.0\n"
     ]
    }
   ],
   "source": [
    "# (TO DO) Q9 - Part 2\n",
    "# TODO: Perform the defuzzification\n",
    "defuzz = activity_lv.defuzzification_average_maximas(fsname)\n",
    "# TODO: Print the crisp output | Écrivez la sortie nette\n",
    "print(\"The defuzzification value is \" +str(defuzz))"
   ]
  },
  {
   "cell_type": "markdown",
   "metadata": {},
   "source": [
    "**(TO DO) Q9 - Part 3**     \n",
    "Écrivez la réponse au problème ici.     \n",
    "L'activité choisie est \"Play games\" pour une durée de 9 heures."
   ]
  },
  {
   "cell_type": "markdown",
   "metadata": {},
   "source": [
    "**7. Résoudre votre propre problème.**  \n",
    "\n",
    "Maintenant que vous avez terminé l’ensemble du processus de résolution d’un problème avec une logique floue, vous travaillerez avec un nouveau problème pour le résoudre par l’utilisation des variables linguistiques et des règles que nous avons définies ci-dessus. Voici chaque étape que vous devrez faire dans les cellules ci-dessous.\n",
    "\n",
    "**(TO DO) Q10 - 9 points**  \n",
    "\n",
    "L’énoncé du problème que vous résoudrez par vous-même est :   \n",
    "***   \n",
    "    Déclaration du problème: C’est dimanche et j’ai encore 7 heures de travail à faire. Quelle activité vais-je faire et pour combien de temps?\n",
    "***   \n",
    "     \n",
    "1. Effectuer la fuzzification et imprimer les résultats de la fuzzification.    \n",
    "2. Appliquer les opérateurs de logique floue sur l’antécédent des trois règles utilisées dans ce notebook.    \n",
    "3. Transférer le degré d’appartenance de l’antécédent sur la conséquence.\n",
    "4. Effectuer la défuzzification et imprimer la réponse au problème (ne pas oublier de trouver l’appartenance maximale)."
   ]
  },
  {
   "cell_type": "code",
   "execution_count": 126,
   "metadata": {},
   "outputs": [],
   "source": [
    "# Reset max_membership variable for all fuzzy sets in all linguistic variables\n",
    "# This must be called to properly reset the state of the linguistic variable.\n",
    "day_lv.reset_fuzzy_maximums()\n",
    "busy_lv.reset_fuzzy_maximums()\n",
    "activity_lv.reset_fuzzy_maximums()"
   ]
  },
  {
   "cell_type": "code",
   "execution_count": 127,
   "metadata": {},
   "outputs": [],
   "source": [
    "# (TO DO) Q10 - Part 1\n",
    "# Perform the fuzzification here and print the results\n",
    "weekend_appartenance = day_lv.fuzzification(\"Weekend\" , \"Sunday\")\n",
    "little_appartenance = busy_lv.fuzzification(\"Little\" , 7)\n",
    "moderate_appartenance = busy_lv.fuzzification(\"Moderate\" , 7)\n",
    "very_appartenance = busy_lv.fuzzification(\"Very\" , 7)\n"
   ]
  },
  {
   "cell_type": "code",
   "execution_count": 128,
   "metadata": {},
   "outputs": [
    {
     "name": "stdout",
     "output_type": "stream",
     "text": [
      "Rule 1 - If it is the Weekend and I am Very Busy, I will go to Yoga.\n",
      "The membership value for Yoga is 0.5\n",
      "Rule 2 - If it is the Weekend and I am a Little Busy or Moderately Busy, I will go to Ski.\n",
      "The membership value for Ski is 0\n",
      "Rule 3 - If it is not the Weekend or I am Moderately Busy, I will Play games\n",
      "The membership value for Play games is 0.05\n"
     ]
    }
   ],
   "source": [
    "# (TO DO) Q10 - Part 2\n",
    "# Apply the fuzzy logic operators on the antecedent of the three rules used throughout this notebook\n",
    "\n",
    "# TODO\n",
    "# RULE 1\n",
    "print(\"Rule 1 - If it is the Weekend and I am Very Busy, I will go to Yoga.\")\n",
    "rule1_membership = fuzzy_AND(weekend_appartenance, very_appartenance)\n",
    "print(\"The membership value for Yoga is \" + str(rule1_membership))\n",
    "\n",
    "#TODO\n",
    "# RULE 2\n",
    "print(\"Rule 2 - If it is the Weekend and I am a Little Busy or Moderately Busy, I will go to Ski.\")\n",
    "rule2_membership = fuzzy_AND(weekend_appartenance, fuzzy_OR(little_appartenance, moderate_appartenance))\n",
    "print(\"The membership value for Ski is \" + str(rule2_membership))\n",
    "\n",
    "#TODO\n",
    "# RULE 3\n",
    "print(\"Rule 3 - If it is not the Weekend or I am Moderately Busy, I will Play games\")\n",
    "rule3_membership = fuzzy_OR(fuzzy_NOT(weekend_appartenance), moderate_appartenance)\n",
    "print(\"The membership value for Play games is \" + str(rule3_membership))"
   ]
  },
  {
   "cell_type": "code",
   "execution_count": 129,
   "metadata": {},
   "outputs": [],
   "source": [
    "# (TO DO) Q10 - Part 3\n",
    "# Transfer the membership degree of the antecedent on the consequence\n",
    "yoga_membership = activity_lv.set_fuzzy_maximum(\"Yoga\", rule1_membership)\n",
    "ski_membership = activity_lv.set_fuzzy_maximum(\"Ski\" , rule2_membership)\n",
    "play_games_membership = activity_lv.set_fuzzy_maximum(\"Play games\", rule3_membership)"
   ]
  },
  {
   "cell_type": "code",
   "execution_count": 130,
   "metadata": {},
   "outputs": [
    {
     "name": "stdout",
     "output_type": "stream",
     "text": [
      "The maximum membership is 0.5 for the fuzzy subset Yoga\n",
      "I will do Yoga for 1.625 hours.\n"
     ]
    }
   ],
   "source": [
    "# Perform the defuzzification process\n",
    "# TODO: First find the maximum\n",
    "max_yoga = activity_lv.get_fuzzy_maximum(\"Yoga\")\n",
    "max_ski = activity_lv.get_fuzzy_maximum(\"Ski\")\n",
    "max_play_games = activity_lv.get_fuzzy_maximum(\"Play games\")\n",
    "max_value = max(max_yoga, max_ski, max_play_games)\n",
    "fsname=\"\"\n",
    "if max_value == max_yoga:\n",
    "    fsname = \"Yoga\"\n",
    "elif max_value == max_ski:\n",
    "    fsname = \"Ski\"\n",
    "else:\n",
    "    fsname = \"Play games\"\n",
    "# TODO: Print the maximum mebership value and the name of the fuzzy subset\n",
    "print(\"The maximum membership is \" + str(max_value) + \" for the fuzzy subset \" + fsname)\n",
    "# TODO: Perform the defuzzification\n",
    "defuzz = activity_lv.defuzzification_average_maximas(fsname)\n",
    "# Print the answer to the problem\n",
    "print(\"I will do \" + fsname + \" for \" + str(defuzz) + \" hours.\")"
   ]
  },
  {
   "cell_type": "markdown",
   "metadata": {},
   "source": [
    "***SIGNATURE:***  Mon nom est --Bhavika Sewpal-------, et mon numéro d'étudiant(e) est -300089940--------.  Je certifie être l'auteur de ce devoir."
   ]
  },
  {
   "cell_type": "code",
   "execution_count": null,
   "metadata": {},
   "outputs": [],
   "source": []
  }
 ],
 "metadata": {
  "kernelspec": {
   "display_name": "Python 3",
   "language": "python",
   "name": "python3"
  },
  "language_info": {
   "codemirror_mode": {
    "name": "ipython",
    "version": 3
   },
   "file_extension": ".py",
   "mimetype": "text/x-python",
   "name": "python",
   "nbconvert_exporter": "python",
   "pygments_lexer": "ipython3",
   "version": "3.8.5"
  }
 },
 "nbformat": 4,
 "nbformat_minor": 2
}
