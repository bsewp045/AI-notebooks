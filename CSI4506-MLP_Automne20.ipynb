{
 "cells": [
  {
   "cell_type": "markdown",
   "metadata": {},
   "source": [
    "# <span style='color:#00BB27'>Notebook 6 - Résaux de neuronnes</span>\n",
    "\n",
    "### Perceptron multi-couches"
   ]
  },
  {
   "cell_type": "markdown",
   "metadata": {},
   "source": [
    "CSI4506 Intelligence Artificielle\n",
    "Automne 2020  \n",
    "Préparé par Caroline Barrière, Julian Templeton et Joel Muteba\n",
    "\n",
    "***"
   ]
  },
  {
   "cell_type": "markdown",
   "metadata": {},
   "source": [
    "Nous allons vers le domaine médical pour ce notebook.  La tâche de classification supervisée que nous attaquons est à propos de la réadmission de patients diabétiques dans les hopitaux, et ce en lien avec plusieurs attributs décrivant leur état physique, les procédures médicales suivies, les médicaments prescrits, etc.\n",
    "\n",
    "Tout *patient réadmis* est très dispendieux pour un système médical.  Cela montre, jusqu'à un certain point, qu'un patient a été retourné chez lui trop rapidement, avant qu'il se soit complètement rétabli.  L'ensemble de données que nous explorons classifie les réadmissions en trois valeurs: moins de 30 jours, plus de 30 jours, et aucune.\n",
    "\n",
    "Ce notebook vous permettra de poursuivre votre compréhension de design expérimental pour l'apprentissage machine supervisé, en particulier la classification supervisée.  Cela vous permettra aussi de vous familiariser avec le perceptron multi-couches.\n",
    "\n",
    "Nous ferons usage de trois packages: (1) **scikit-learn**, un très bon package pour l'apprentissage machine, vous l'avez déjà expérimenté dans votre dernier notebook, (2) **pandas**, un package très utile pour les sciences des données et (3) **matplotlib** qui est très utile pour visualiser vos données (pip install matplotlib). Assurez-vous d'avoir installé la dernière version de scikit-learn (version 0.20), sinon certaines classes (le one-hot-encoder) ne fonctionneront pas.\n",
    "\n",
    "Comme ce notebook est votre 6ième ce semestre, certaines instructions sont moins explicites. Si vous avez des hypothèses, énoncez-les et réfléchissez à la manière de traiter les questions.\n",
    "\n",
    "***"
   ]
  },
  {
   "cell_type": "markdown",
   "metadata": {},
   "source": [
    "***DEVOIR***:  \n",
    "\n",
    "Parcourir le notebook, en exécutant chaque cellule, une à une.\n",
    "Pour chaque **(TO DO) X points**, effectuer les tâches demandées. Ne modifiez pas le code en dehors des questions à moins demandé explicitement. Quand vous avez terminé, signez et soumettez votre notebook.\n",
    "\n",
    "*Ce notebook sera évalué sur 30*\n",
    "\n",
    "***"
   ]
  },
  {
   "cell_type": "markdown",
   "metadata": {},
   "source": [
    "**1. Obtenir le dataset**\n",
    "\n",
    "D'abord, lisez la description de l'ensemble de données sur la réadmission de patients diabétiques (https://www.kaggle.com/brandao/diabetes). \n",
    "\n",
    "Télécharger les données (fichier dataset_diabetes.zip) à partir de l'archive UCI:\n",
    "https://archive.ics.uci.edu/ml/datasets/Diabetes+130-US+hospitals+for+years+1999-2008\n",
    "\n",
    "Dans le fichier *dataset_diabetes.zip*, vous trouverez un fichier appelé *diabetic_data.csv* que nous utiliserons pour notre expérimentation. "
   ]
  },
  {
   "cell_type": "markdown",
   "metadata": {},
   "source": [
    "**2. Explorer l'ensemble de données**  \n",
    "Nous utiliserons le package *pandas* pour lire le fichier csv.  Cela crée une structure de donnée appelée *dataframe* qui contient toutes les données.\n",
    "\n",
    "Si vous avez des erreurs en important les packages, c'est peut-être qu'ils ne sont pas installés.  Assurez-vous de faire *pip install nom_du_package* à l'invite de commande pour installer les packages requis."
   ]
  },
  {
   "cell_type": "code",
   "execution_count": 2,
   "metadata": {},
   "outputs": [],
   "source": [
    "# Importation des packages pour l'analyse des données et ML\n",
    "import pandas as pd\n",
    "import sklearn\n",
    "import matplotlib.pyplot as plt"
   ]
  },
  {
   "cell_type": "markdown",
   "metadata": {},
   "source": [
    "Le code qui suit lit le fichier csv (qui j'ai mis dans un répertoire Diabetes, mais vous pouvez le mettre ailleurs). Ensuite, le code montre les cinq premières lignes du dataset."
   ]
  },
  {
   "cell_type": "code",
   "execution_count": 4,
   "metadata": {},
   "outputs": [
    {
     "data": {
      "text/html": [
       "<div>\n",
       "<style scoped>\n",
       "    .dataframe tbody tr th:only-of-type {\n",
       "        vertical-align: middle;\n",
       "    }\n",
       "\n",
       "    .dataframe tbody tr th {\n",
       "        vertical-align: top;\n",
       "    }\n",
       "\n",
       "    .dataframe thead th {\n",
       "        text-align: right;\n",
       "    }\n",
       "</style>\n",
       "<table border=\"1\" class=\"dataframe\">\n",
       "  <thead>\n",
       "    <tr style=\"text-align: right;\">\n",
       "      <th></th>\n",
       "      <th>encounter_id</th>\n",
       "      <th>patient_nbr</th>\n",
       "      <th>race</th>\n",
       "      <th>gender</th>\n",
       "      <th>age</th>\n",
       "      <th>weight</th>\n",
       "      <th>admission_type_id</th>\n",
       "      <th>discharge_disposition_id</th>\n",
       "      <th>admission_source_id</th>\n",
       "      <th>time_in_hospital</th>\n",
       "      <th>...</th>\n",
       "      <th>citoglipton</th>\n",
       "      <th>insulin</th>\n",
       "      <th>glyburide-metformin</th>\n",
       "      <th>glipizide-metformin</th>\n",
       "      <th>glimepiride-pioglitazone</th>\n",
       "      <th>metformin-rosiglitazone</th>\n",
       "      <th>metformin-pioglitazone</th>\n",
       "      <th>change</th>\n",
       "      <th>diabetesMed</th>\n",
       "      <th>readmitted</th>\n",
       "    </tr>\n",
       "  </thead>\n",
       "  <tbody>\n",
       "    <tr>\n",
       "      <th>0</th>\n",
       "      <td>2278392</td>\n",
       "      <td>8222157</td>\n",
       "      <td>Caucasian</td>\n",
       "      <td>Female</td>\n",
       "      <td>[0-10)</td>\n",
       "      <td>?</td>\n",
       "      <td>6</td>\n",
       "      <td>25</td>\n",
       "      <td>1</td>\n",
       "      <td>1</td>\n",
       "      <td>...</td>\n",
       "      <td>No</td>\n",
       "      <td>No</td>\n",
       "      <td>No</td>\n",
       "      <td>No</td>\n",
       "      <td>No</td>\n",
       "      <td>No</td>\n",
       "      <td>No</td>\n",
       "      <td>No</td>\n",
       "      <td>No</td>\n",
       "      <td>NO</td>\n",
       "    </tr>\n",
       "    <tr>\n",
       "      <th>1</th>\n",
       "      <td>149190</td>\n",
       "      <td>55629189</td>\n",
       "      <td>Caucasian</td>\n",
       "      <td>Female</td>\n",
       "      <td>[10-20)</td>\n",
       "      <td>?</td>\n",
       "      <td>1</td>\n",
       "      <td>1</td>\n",
       "      <td>7</td>\n",
       "      <td>3</td>\n",
       "      <td>...</td>\n",
       "      <td>No</td>\n",
       "      <td>Up</td>\n",
       "      <td>No</td>\n",
       "      <td>No</td>\n",
       "      <td>No</td>\n",
       "      <td>No</td>\n",
       "      <td>No</td>\n",
       "      <td>Ch</td>\n",
       "      <td>Yes</td>\n",
       "      <td>&gt;30</td>\n",
       "    </tr>\n",
       "    <tr>\n",
       "      <th>2</th>\n",
       "      <td>64410</td>\n",
       "      <td>86047875</td>\n",
       "      <td>AfricanAmerican</td>\n",
       "      <td>Female</td>\n",
       "      <td>[20-30)</td>\n",
       "      <td>?</td>\n",
       "      <td>1</td>\n",
       "      <td>1</td>\n",
       "      <td>7</td>\n",
       "      <td>2</td>\n",
       "      <td>...</td>\n",
       "      <td>No</td>\n",
       "      <td>No</td>\n",
       "      <td>No</td>\n",
       "      <td>No</td>\n",
       "      <td>No</td>\n",
       "      <td>No</td>\n",
       "      <td>No</td>\n",
       "      <td>No</td>\n",
       "      <td>Yes</td>\n",
       "      <td>NO</td>\n",
       "    </tr>\n",
       "    <tr>\n",
       "      <th>3</th>\n",
       "      <td>500364</td>\n",
       "      <td>82442376</td>\n",
       "      <td>Caucasian</td>\n",
       "      <td>Male</td>\n",
       "      <td>[30-40)</td>\n",
       "      <td>?</td>\n",
       "      <td>1</td>\n",
       "      <td>1</td>\n",
       "      <td>7</td>\n",
       "      <td>2</td>\n",
       "      <td>...</td>\n",
       "      <td>No</td>\n",
       "      <td>Up</td>\n",
       "      <td>No</td>\n",
       "      <td>No</td>\n",
       "      <td>No</td>\n",
       "      <td>No</td>\n",
       "      <td>No</td>\n",
       "      <td>Ch</td>\n",
       "      <td>Yes</td>\n",
       "      <td>NO</td>\n",
       "    </tr>\n",
       "    <tr>\n",
       "      <th>4</th>\n",
       "      <td>16680</td>\n",
       "      <td>42519267</td>\n",
       "      <td>Caucasian</td>\n",
       "      <td>Male</td>\n",
       "      <td>[40-50)</td>\n",
       "      <td>?</td>\n",
       "      <td>1</td>\n",
       "      <td>1</td>\n",
       "      <td>7</td>\n",
       "      <td>1</td>\n",
       "      <td>...</td>\n",
       "      <td>No</td>\n",
       "      <td>Steady</td>\n",
       "      <td>No</td>\n",
       "      <td>No</td>\n",
       "      <td>No</td>\n",
       "      <td>No</td>\n",
       "      <td>No</td>\n",
       "      <td>Ch</td>\n",
       "      <td>Yes</td>\n",
       "      <td>NO</td>\n",
       "    </tr>\n",
       "  </tbody>\n",
       "</table>\n",
       "<p>5 rows × 50 columns</p>\n",
       "</div>"
      ],
      "text/plain": [
       "   encounter_id  patient_nbr             race  gender      age weight  \\\n",
       "0       2278392      8222157        Caucasian  Female   [0-10)      ?   \n",
       "1        149190     55629189        Caucasian  Female  [10-20)      ?   \n",
       "2         64410     86047875  AfricanAmerican  Female  [20-30)      ?   \n",
       "3        500364     82442376        Caucasian    Male  [30-40)      ?   \n",
       "4         16680     42519267        Caucasian    Male  [40-50)      ?   \n",
       "\n",
       "   admission_type_id  discharge_disposition_id  admission_source_id  \\\n",
       "0                  6                        25                    1   \n",
       "1                  1                         1                    7   \n",
       "2                  1                         1                    7   \n",
       "3                  1                         1                    7   \n",
       "4                  1                         1                    7   \n",
       "\n",
       "   time_in_hospital  ... citoglipton insulin  glyburide-metformin  \\\n",
       "0                 1  ...          No      No                   No   \n",
       "1                 3  ...          No      Up                   No   \n",
       "2                 2  ...          No      No                   No   \n",
       "3                 2  ...          No      Up                   No   \n",
       "4                 1  ...          No  Steady                   No   \n",
       "\n",
       "   glipizide-metformin  glimepiride-pioglitazone  metformin-rosiglitazone  \\\n",
       "0                   No                        No                       No   \n",
       "1                   No                        No                       No   \n",
       "2                   No                        No                       No   \n",
       "3                   No                        No                       No   \n",
       "4                   No                        No                       No   \n",
       "\n",
       "   metformin-pioglitazone  change diabetesMed readmitted  \n",
       "0                      No      No          No         NO  \n",
       "1                      No      Ch         Yes        >30  \n",
       "2                      No      No         Yes         NO  \n",
       "3                      No      Ch         Yes         NO  \n",
       "4                      No      Ch         Yes         NO  \n",
       "\n",
       "[5 rows x 50 columns]"
      ]
     },
     "execution_count": 4,
     "metadata": {},
     "output_type": "execute_result"
    }
   ],
   "source": [
    "# Importer les données et imprimer les cinqs premières lignes\n",
    "X = pd.read_csv(\"diabetic_data.csv\")\n",
    "X.head(5)"
   ]
  },
  {
   "cell_type": "code",
   "execution_count": 5,
   "metadata": {},
   "outputs": [
    {
     "name": "stdout",
     "output_type": "stream",
     "text": [
      "['encounter_id', 'patient_nbr', 'race', 'gender', 'age', 'weight', 'admission_type_id', 'discharge_disposition_id', 'admission_source_id', 'time_in_hospital', 'payer_code', 'medical_specialty', 'num_lab_procedures', 'num_procedures', 'num_medications', 'number_outpatient', 'number_emergency', 'number_inpatient', 'diag_1', 'diag_2', 'diag_3', 'number_diagnoses', 'max_glu_serum', 'A1Cresult', 'metformin', 'repaglinide', 'nateglinide', 'chlorpropamide', 'glimepiride', 'acetohexamide', 'glipizide', 'glyburide', 'tolbutamide', 'pioglitazone', 'rosiglitazone', 'acarbose', 'miglitol', 'troglitazone', 'tolazamide', 'examide', 'citoglipton', 'insulin', 'glyburide-metformin', 'glipizide-metformin', 'glimepiride-pioglitazone', 'metformin-rosiglitazone', 'metformin-pioglitazone', 'change', 'diabetesMed', 'readmitted']\n"
     ]
    }
   ],
   "source": [
    "# Imprimer tous les attributs\n",
    "print(list(X))"
   ]
  },
  {
   "cell_type": "code",
   "execution_count": 6,
   "metadata": {},
   "outputs": [
    {
     "name": "stdout",
     "output_type": "stream",
     "text": [
      "(101766, 50)\n",
      "Caucasian          76099\n",
      "AfricanAmerican    19210\n",
      "?                   2273\n",
      "Hispanic            2037\n",
      "Other               1506\n",
      "Asian                641\n",
      "Name: race, dtype: int64\n"
     ]
    }
   ],
   "source": [
    "# Regarder aux données\n",
    "print(X.shape)\n",
    "print(X['race'].value_counts())\n"
   ]
  },
  {
   "cell_type": "markdown",
   "metadata": {},
   "source": [
    "**<span style='color:#00BB27'>(TO DO) Q1 - 3 points<span>**  \n",
    "Inspiré des quelques lignes de code ci-haut, écrivez du code pour répondre aux questions suivantes.  Vous pouvez faire une partie du processus manuellement (le code écrit devrait seulement vous aider à répondre aux questions). \n",
    "\n",
    "1. Combien d'exemples y a-t-il dans le dataset?\n",
    "2. Combien d'attributs y a-t-il dans le dataset?\n",
    "3. Combien de classes cibles sont dans le dataset?\n",
    "4. Quelles sont les différentes valeurs (créneaux) possible pour l'attribut 'weight' ainsi que le nombre d'exemples pour chaque créneaux?\n",
    "5. Quelles sont les probabilités a priori de chaque classe (NO, <30,> 30)?\n",
    "6. Y a-t-il des patients présents plus de 25 fois dans le dataset?"
   ]
  },
  {
   "cell_type": "code",
   "execution_count": 43,
   "metadata": {},
   "outputs": [
    {
     "name": "stdout",
     "output_type": "stream",
     "text": [
      "Nombre d'exemples dans le data set: 101766\n",
      "Nombre d'attribut dans le dataset: 50\n",
      "Nombre de classe cibles dans le dataset: 3\n",
      "Les différentes valeurs possibles pour l'attribut weight:\n",
      " ?            98569\n",
      "[75-100)      1336\n",
      "[50-75)        897\n",
      "[100-125)      625\n",
      "[125-150)      145\n",
      "[25-50)         97\n",
      "[0-25)          48\n",
      "[150-175)       35\n",
      "[175-200)       11\n",
      ">200             3\n",
      "Name: weight, dtype: int64\n",
      "Les probabilités a priori de chaque classe (NO, <30,> 30): \n",
      "NO     0.539119\n",
      ">30    0.349282\n",
      "<30    0.111599\n",
      "Name: readmitted, dtype: float64\n",
      "88785891    40\n",
      "43140906    28\n",
      "23199021    23\n",
      "1660293     23\n",
      "88227540    23\n",
      "Name: patient_nbr, dtype: int64\n"
     ]
    }
   ],
   "source": [
    "### Votre CODE -- Répondez aux six questions:\n",
    "\n",
    "# 1:\n",
    "print(\"Nombre d'exemples dans le data set: {}\".format(len(X.axes[0])))\n",
    "\n",
    "# 2: \n",
    "print(\"Nombre d'attribut dans le dataset: {}\".format(len(X.axes[1])))\n",
    "\n",
    "# 3:\n",
    "print(\"Nombre de classe cibles dans le dataset: {}\".format(X['readmitted'].nunique()))\n",
    "\n",
    "# 4:\n",
    "print(\"Les différentes valeurs possibles pour l'attribut weight:\\n {}\".format(X['weight'].value_counts()))\n",
    "\n",
    "# 5:\n",
    "print(\"Les probabilités a priori de chaque classe (NO, <30,> 30): \\n{}\".format(X['readmitted'].value_counts().div(len(X))))\n",
    "\n",
    "# 6: Il y a deux patients qui ont été présents de plus de 25 fois\n",
    "duplicates = X['patient_nbr'].value_counts() \n",
    "print(duplicates.head(5))\n"
   ]
  },
  {
   "cell_type": "markdown",
   "metadata": {},
   "source": [
    "**3. Extraction de caractéristiques**  \n",
    "Maintenant que nous avons examiné nos données, nous allons décider quels attributs conviendraient avec notre modèle.\n",
    "\n",
    "La sélection des attributs est tout aussi importante que le réglage d'un modèle (choisir des hyperparamètres). Nous devons nous assurer de choisir des attributs de haute qualité qui représentent le mieux nos données afin de maximiser les performances de notre modèle. Mettre simplement chaque attribut ou en sélectionner certaines sans les analyser peut donner de mauvais résultats. Par conséquent, nous devons déterminer les attributs à utiliser en examinant les données elles-mêmes pour déterminer si elles conviendraient bien au problème.\n",
    "\n",
    "Certains problèmes lors de l'utilisation de données incluent:  \n",
    "1. Les données sont-elles bien distribuées? En d’autres termes, contient-il suffisamment de variété pour permettre une bonne représentation des données?\n",
    "2. Y a-t-il des valeurs manquantes? Plus il y a de valeurs manquantes - moins elles sont efficaces pour nombreux algorithmes d’apprentissage automatique. Ici, nous ne nous concentrerons pas sur cette question, mais il est important de le savoir.\n",
    "3. Ces données représentent-elles bien notre dataset?\n",
    "4. Est-ce que les données fonctionnent bien avec notre algorithme sélectionné (dans notre cas, oui)."
   ]
  },
  {
   "cell_type": "markdown",
   "metadata": {},
   "source": [
    "**<span style='color:#00BB27'>(TO DO) Q2 - 4 points<span>**   \n",
    "Parmis les attributs que nous allons utiliser, voici quatres d'entre-eux que nous allons explorer:\n",
    "\n",
    "1. gender \n",
    "2. age \n",
    "3. weight \n",
    "4. num_medications\n",
    "\n",
    "Vous devez explorer chacun des quatres attributs en répondant aux questions suivantes pour chacun de ces attributs:\n",
    "\n",
    "**1)** Afficher la distribution (histogramme utilisant kind = \"hist\" pour les données numériques ou en barres utilisant kind = \"barh\" pour les données catégoriques) et inscrivez si les données sont bien distribuées ou non.  \n",
    "**2)** Identifier le nombre de valeurs manquantes / inconnues / non valides.\n",
    "\n",
    "Si vous avez des hypothèses ou 'assumptions', inscrivez-les."
   ]
  },
  {
   "cell_type": "code",
   "execution_count": 67,
   "metadata": {},
   "outputs": [
    {
     "data": {
      "image/png": "[encoded data removed]",
      "text/plain": [
       "<Figure size 432x288 with 1 Axes>"
      ]
     },
     "metadata": {
      "needs_background": "light"
     },
     "output_type": "display_data"
    },
    {
     "name": "stdout",
     "output_type": "stream",
     "text": [
      "(Example.1): Est-ce que les valeurs sont bien distribuées? Non. Les valeurs sont très imbalancées.\n",
      "(Example.2): Il y a 2273 valeures manquantes représentées par le symbole '?'.\n",
      "\n",
      "\n"
     ]
    },
    {
     "data": {
      "image/png": "[encoded data removed]",
      "text/plain": [
       "<Figure size 432x288 with 1 Axes>"
      ]
     },
     "metadata": {
      "needs_background": "light"
     },
     "output_type": "display_data"
    },
    {
     "name": "stdout",
     "output_type": "stream",
     "text": [
      "(1.1): Est-ce que les valuers de 'gender' sont bien distribuées? Oui\n",
      "(1.2): Il y a 3 valeures manquantes.\n",
      "\n"
     ]
    },
    {
     "data": {
      "image/png": "[encoded data removed]",
      "text/plain": [
       "<Figure size 432x288 with 1 Axes>"
      ]
     },
     "metadata": {
      "needs_background": "light"
     },
     "output_type": "display_data"
    },
    {
     "name": "stdout",
     "output_type": "stream",
     "text": [
      "(2.1): Est-ce que les valuers de 'age' sont bien distribuées?Non. Les valeurs sont biaisées en faveur des personnes âgées\n",
      "(2.2): Il n'y a pas de valeures manquantes.\n",
      "\n"
     ]
    },
    {
     "data": {
      "image/png": "[encoded data removed]",
      "text/plain": [
       "<Figure size 432x288 with 1 Axes>"
      ]
     },
     "metadata": {
      "needs_background": "light"
     },
     "output_type": "display_data"
    },
    {
     "name": "stdout",
     "output_type": "stream",
     "text": [
      "(3.1): Est-ce que les valuers de 'weight' sont bien distribuées? Non\n",
      "(3.2): Il y a 98569 valeures manquantes.\n",
      "\n"
     ]
    },
    {
     "data": {
      "image/png": "[encoded data removed]",
      "text/plain": [
       "<Figure size 432x288 with 1 Axes>"
      ]
     },
     "metadata": {
      "needs_background": "light"
     },
     "output_type": "display_data"
    },
    {
     "name": "stdout",
     "output_type": "stream",
     "text": [
      "(4.1): Est-ce que les valeurs de 'num_medications' sont bien distribuées? Elles sont légèrement imbalancées. \n",
      "(4.2): Il n'y a pas de valeures manquantes.\n",
      "\n"
     ]
    }
   ],
   "source": [
    "# Exemple pour l'attribut 'race'\n",
    "plt.figure() # Crée une nouvelle figure\n",
    "X[\"race\"].value_counts().plot(kind=\"barh\", title=\"EXEMPLE - Race\")\n",
    "plt.show()\n",
    "print(\"(Example.1): Est-ce que les valeurs sont bien distribuées? Non. Les valeurs sont très imbalancées.\")\n",
    "print(\"(Example.2): Il y a 2273 valeures manquantes représentées par le symbole '?'.\\n\\n\")\n",
    "\n",
    "\n",
    "# Modifiez et répondez aux questions ci-dessous en vous aidant avec l'exemple.\n",
    "# gender\n",
    "X[\"gender\"].value_counts().plot(kind=\"barh\" , title = \"EXEMPLE - Gender\")\n",
    "plt.show()\n",
    "print(\"(1.1): Est-ce que les valuers de 'gender' sont bien distribuées? Oui\")\n",
    "print(\"(1.2): Il y a 3 valeures manquantes.\\n\")\n",
    "# age\n",
    "X[\"age\"].value_counts().plot(kind=\"barh\" , title = \"EXEMPLE - Age\")\n",
    "plt.show()\n",
    "print(\"(2.1): Est-ce que les valuers de 'age' sont bien distribuées?Non. Les valeurs sont biaisées en faveur des personnes âgées\")\n",
    "print(\"(2.2): Il n'y a pas de valeures manquantes.\\n\")\n",
    "# weight\n",
    "X[\"weight\"].value_counts().plot(kind=\"barh\", title = \"EXEMPLE - Weight\")\n",
    "plt.show()\n",
    "print(\"(3.1): Est-ce que les valuers de 'weight' sont bien distribuées? Non\")\n",
    "print(\"(3.2): Il y a 98569 valeures manquantes.\\n\")\n",
    "# num_medications\n",
    "n, bins, patches = plt.hist(X.num_medications)\n",
    "plt.xticks(bins)\n",
    "plt.title(\"EXEMPLE - Num_medications\")\n",
    "plt.show()\n",
    "print(\"(4.1): Est-ce que les valeurs de 'num_medications' sont bien distribuées? Elles sont légèrement imbalancées. \")\n",
    "print(\"(4.2): Il n'y a pas de valeures manquantes.\\n\")"
   ]
  },
  {
   "cell_type": "markdown",
   "metadata": {},
   "source": [
    "**4. Préparation de l'ensemble de données et prétraitement**\n",
    "\n",
    "Nous ferons 2 étapes pour préparer les données pour l'expérimentation:  \n",
    "1. Extraire l'attribut correspondant à la classe que nous voulons prédire pour en faire notre classe cible\n",
    "2. Séparer l'ensemble de données en ensemble d'entraînement et ensemble de test."
   ]
  },
  {
   "cell_type": "code",
   "execution_count": 68,
   "metadata": {},
   "outputs": [],
   "source": [
    "# Cette étape ne peux être exécuté une fois, puisque la fonction pop enlève la colonne du dataset\n",
    "y = X.pop(\"readmitted\").values"
   ]
  },
  {
   "cell_type": "code",
   "execution_count": 95,
   "metadata": {},
   "outputs": [
    {
     "name": "stdout",
     "output_type": "stream",
     "text": [
      "(81412, 49)\n",
      "(20354,)\n",
      "['NO' '<30' '>30' ... '<30' '>30' 'NO']\n"
     ]
    }
   ],
   "source": [
    "# Séparer le dataset en ensemble d'entraînement et ensemble de test.\n",
    "from sklearn.model_selection import train_test_split\n",
    "\n",
    "X_train, X_test, y_train, y_test = train_test_split(X, y, test_size = 0.2, random_state=5)\n",
    "print(X_train.shape)\n",
    "print(y_test.shape)"
   ]
  },
  {
   "cell_type": "code",
   "execution_count": 70,
   "metadata": {},
   "outputs": [
    {
     "data": {
      "text/plain": [
       "OneHotEncoder(handle_unknown='ignore', sparse=False)"
      ]
     },
     "execution_count": 70,
     "metadata": {},
     "output_type": "execute_result"
    }
   ],
   "source": [
    "from sklearn import preprocessing\n",
    "from sklearn.preprocessing import OneHotEncoder\n",
    "\n",
    "# encoder\n",
    "ohe = OneHotEncoder(sparse=False, handle_unknown='ignore')\n",
    "\n",
    "# Puisque le dataset est plustot grand, on choisi seulement certain attributs\n",
    "featureSet = ['race','gender','age', 'weight', 'time_in_hospital', 'num_lab_procedures', 'num_procedures',\n",
    " 'num_medications']\n",
    "\n",
    "# Faire une copie des deux ensemble en fonction des attributs choisis\n",
    "X_train_sf = X_train[featureSet].copy()\n",
    "X_test_sf = X_test[featureSet].copy()\n",
    "\n",
    "# Si vous voulez essayer avec le dataset au complet (prends vraiment longtemps):\n",
    "# X_train_allf = X_train[:].copy()\n",
    "# X_test_allf = X_test[:].copy()\n",
    "\n",
    "# Appliquer l'encodage 'one-hot' aux attributs\n",
    "ohe.fit(X_train_sf)"
   ]
  },
  {
   "cell_type": "code",
   "execution_count": 71,
   "metadata": {},
   "outputs": [
    {
     "name": "stdout",
     "output_type": "stream",
     "text": [
      "['x0_?' 'x0_AfricanAmerican' 'x0_Asian' 'x0_Caucasian' 'x0_Hispanic'\n",
      " 'x0_Other' 'x1_Female' 'x1_Male' 'x1_Unknown/Invalid' 'x2_[0-10)'\n",
      " 'x2_[10-20)' 'x2_[20-30)' 'x2_[30-40)' 'x2_[40-50)' 'x2_[50-60)'\n",
      " 'x2_[60-70)' 'x2_[70-80)' 'x2_[80-90)' 'x2_[90-100)' 'x3_>200' 'x3_?'\n",
      " 'x3_[0-25)' 'x3_[100-125)' 'x3_[125-150)' 'x3_[150-175)' 'x3_[175-200)'\n",
      " 'x3_[25-50)' 'x3_[50-75)' 'x3_[75-100)' 'x4_1' 'x4_2' 'x4_3' 'x4_4'\n",
      " 'x4_5' 'x4_6' 'x4_7' 'x4_8' 'x4_9' 'x4_10' 'x4_11' 'x4_12' 'x4_13'\n",
      " 'x4_14' 'x5_1' 'x5_2' 'x5_3' 'x5_4' 'x5_5' 'x5_6' 'x5_7' 'x5_8' 'x5_9'\n",
      " 'x5_10' 'x5_11' 'x5_12' 'x5_13' 'x5_14' 'x5_15' 'x5_16' 'x5_17' 'x5_18'\n",
      " 'x5_19' 'x5_20' 'x5_21' 'x5_22' 'x5_23' 'x5_24' 'x5_25' 'x5_26' 'x5_27'\n",
      " 'x5_28' 'x5_29' 'x5_30' 'x5_31' 'x5_32' 'x5_33' 'x5_34' 'x5_35' 'x5_36'\n",
      " 'x5_37' 'x5_38' 'x5_39' 'x5_40' 'x5_41' 'x5_42' 'x5_43' 'x5_44' 'x5_45'\n",
      " 'x5_46' 'x5_47' 'x5_48' 'x5_49' 'x5_50' 'x5_51' 'x5_52' 'x5_53' 'x5_54'\n",
      " 'x5_55' 'x5_56' 'x5_57' 'x5_58' 'x5_59' 'x5_60' 'x5_61' 'x5_62' 'x5_63'\n",
      " 'x5_64' 'x5_65' 'x5_66' 'x5_67' 'x5_68' 'x5_69' 'x5_70' 'x5_71' 'x5_72'\n",
      " 'x5_73' 'x5_74' 'x5_75' 'x5_76' 'x5_77' 'x5_78' 'x5_79' 'x5_80' 'x5_81'\n",
      " 'x5_82' 'x5_83' 'x5_84' 'x5_85' 'x5_86' 'x5_87' 'x5_88' 'x5_89' 'x5_90'\n",
      " 'x5_91' 'x5_92' 'x5_93' 'x5_94' 'x5_95' 'x5_96' 'x5_97' 'x5_98' 'x5_99'\n",
      " 'x5_100' 'x5_101' 'x5_102' 'x5_103' 'x5_104' 'x5_105' 'x5_106' 'x5_107'\n",
      " 'x5_108' 'x5_109' 'x5_111' 'x5_113' 'x5_114' 'x5_118' 'x5_120' 'x5_121'\n",
      " 'x5_129' 'x5_132' 'x6_0' 'x6_1' 'x6_2' 'x6_3' 'x6_4' 'x6_5' 'x6_6' 'x7_1'\n",
      " 'x7_2' 'x7_3' 'x7_4' 'x7_5' 'x7_6' 'x7_7' 'x7_8' 'x7_9' 'x7_10' 'x7_11'\n",
      " 'x7_12' 'x7_13' 'x7_14' 'x7_15' 'x7_16' 'x7_17' 'x7_18' 'x7_19' 'x7_20'\n",
      " 'x7_21' 'x7_22' 'x7_23' 'x7_24' 'x7_25' 'x7_26' 'x7_27' 'x7_28' 'x7_29'\n",
      " 'x7_30' 'x7_31' 'x7_32' 'x7_33' 'x7_34' 'x7_35' 'x7_36' 'x7_37' 'x7_38'\n",
      " 'x7_39' 'x7_40' 'x7_41' 'x7_42' 'x7_43' 'x7_44' 'x7_45' 'x7_46' 'x7_47'\n",
      " 'x7_48' 'x7_49' 'x7_50' 'x7_51' 'x7_52' 'x7_53' 'x7_54' 'x7_55' 'x7_56'\n",
      " 'x7_57' 'x7_58' 'x7_59' 'x7_60' 'x7_61' 'x7_62' 'x7_63' 'x7_64' 'x7_65'\n",
      " 'x7_66' 'x7_67' 'x7_68' 'x7_69' 'x7_70' 'x7_72' 'x7_74' 'x7_75' 'x7_79'\n",
      " 'x7_81']\n"
     ]
    }
   ],
   "source": [
    "# L'encodage renome les attributs. Impression du nom des nouveaux attributs\n",
    "feature_names = ohe.get_feature_names()\n",
    "print(feature_names)"
   ]
  },
  {
   "cell_type": "code",
   "execution_count": 72,
   "metadata": {},
   "outputs": [],
   "source": [
    "# Maintenant on encode les deux ensemble (entraînement et test)\n",
    "X_train_sf_encoded = ohe.transform(X_train_sf)\n",
    "X_test_sf_encoded = ohe.transform(X_test_sf)"
   ]
  },
  {
   "cell_type": "markdown",
   "metadata": {},
   "source": [
    "**<span style='color:#00BB27'>(TO DO) Q3 - 1 point<span>**   \n",
    "Combien d'attributs avons-nous après l'encodage?   \n",
    "Pourquoi y en a-t-il autant?  \n",
    "Montrer le format (*shape*) du dataset d'entraînement maintenant."
   ]
  },
  {
   "cell_type": "code",
   "execution_count": 86,
   "metadata": {},
   "outputs": [
    {
     "name": "stdout",
     "output_type": "stream",
     "text": [
      "Il y a 242 attributs après l'encodage\n",
      "Plusieurs attributs ont des valeurs discrètes. Le one hot encoder transforme chaque valeur discrète en un nouveau attribut\n",
      "(81412, 242)\n"
     ]
    }
   ],
   "source": [
    "# Combien d'attributs avons-nous après l'encodage? (Vous devez coder)\n",
    "\n",
    "print(\"Il y a {} attributs après l'encodage\".format(len(feature_names)))\n",
    "\n",
    "# Pourquoi y en a-t-il autant?\n",
    "print(\"Plusieurs attributs ont des valeurs discrètes. Le one hot encoder transforme chaque valeur discrète en un nouveau attribut\")\n",
    "\n",
    "# Montrer le format (shape) du dataset d'entraînement maintenant.\n",
    "shapeAfterEncoding = X_train_sf_encoded.shape\n",
    "print(shapeAfterEncoding)"
   ]
  },
  {
   "cell_type": "markdown",
   "metadata": {},
   "source": [
    "**5. Modèle de base**  \n",
    "Maintenant que nous avons transformé nos attributs, nous allons commencer par utiliser un classificateur de régression logistique pour effectuer un apprentissage supervisé sur notre dataset.\n"
   ]
  },
  {
   "cell_type": "markdown",
   "metadata": {},
   "source": [
    "***5.1 Définition du classificateur de régression logistique***   \n",
    "On défini notre classificateur avec scikit learn."
   ]
  },
  {
   "cell_type": "code",
   "execution_count": 87,
   "metadata": {},
   "outputs": [],
   "source": [
    "# Importer le classificateur\n",
    "from sklearn.linear_model import LogisticRegression\n",
    "import datetime"
   ]
  },
  {
   "cell_type": "code",
   "execution_count": 88,
   "metadata": {},
   "outputs": [],
   "source": [
    "# Définition du modèle\n",
    "clf_lr = LogisticRegression(solver='lbfgs', multi_class=\"multinomial\", max_iter=1000, random_state=1)"
   ]
  },
  {
   "cell_type": "markdown",
   "metadata": {},
   "source": [
    "***5.2 Entraînement du classificateur de régression logistique***  \n",
    "Maintenant que notre modèle est défini, nous devons entraîner le modèle en utilisant l'ensemble d'entraînement pour prédire la classe *readmitted*."
   ]
  },
  {
   "cell_type": "code",
   "execution_count": 89,
   "metadata": {},
   "outputs": [],
   "source": [
    "def train_model(clf, X_train, y_train, epochs=10):\n",
    "    \"\"\"\n",
    "    Cette fonction entraîne un model spécifié et retourne une liste \n",
    "    de résultats.\n",
    "    \n",
    "    :param clf: modèle scikit learn\n",
    "    :param X_train: données d'entraînement encodés (attributs)\n",
    "    :param y_train: données d'entraînement (classe à prédire)\n",
    "    :param epochs: défault = 10, nombre d'itérations\n",
    "    :return: résultats (accuracy) pour les données d'entraînement\n",
    "    \"\"\"\n",
    "    scores = []\n",
    "    print(\"Starting training...\")\n",
    "    for i in range(1, epochs + 1):\n",
    "        print(\"Epoch:\" + str(i) + \"/\" + str(epochs) + \" -- \" + str(datetime.datetime.now()))\n",
    "        clf.fit(X_train, y_train)\n",
    "        score = clf.score(X_train, y_train)\n",
    "        scores.append(score)\n",
    "    print(\"Done training.\")\n",
    "    return scores"
   ]
  },
  {
   "cell_type": "markdown",
   "metadata": {},
   "source": [
    "**<span style='color:#00BB27'>(TO DO) Q4 - 1 point<span>**  \n",
    "Examiner la fonction *train_model* et expliquer le \"clf.score()\" (utilisé ci-bas). Vous pourrez regarder [la documentation](https://scikit-learn.org/stable/modules/generated/sklearn.linear_model.LogisticRegression.html) du LogisticRegression pour comprendre le score.\n"
   ]
  },
  {
   "cell_type": "markdown",
   "metadata": {},
   "source": [
    "Q4 - ANSWER HERE   \n",
    "\n",
    "Explication du score: clf.score() évalue la justesse (en moyenne) du modèle en fonction de sa capacité de prédire correctement les données dans l'ensemble d'entrainment."
   ]
  },
  {
   "cell_type": "code",
   "execution_count": 109,
   "metadata": {},
   "outputs": [
    {
     "name": "stdout",
     "output_type": "stream",
     "text": [
      "Starting training...\n",
      "Epoch:1/1 -- 2020-10-30 19:27:43.930772\n",
      "Done training.\n",
      "[0.5436053653024124]\n"
     ]
    }
   ],
   "source": [
    "# Maintenant on va entrainer le modèle avec les données d'entraînement.\n",
    "# Ici on spécifie 1 epoch, alors on recevera seulement 1 score\n",
    "clf_lr_scores = train_model(clf_lr, X_train_sf_encoded, y_train, 1)\n",
    "print(clf_lr_scores)"
   ]
  },
  {
   "cell_type": "markdown",
   "metadata": {},
   "source": [
    "**<span style='color:#00BB27'>(TO DO) Q5 - 2 points<span>**  \n",
    "\n",
    "Pour cette question, exécuté la cellule ci-dessous. Par la suite, décrivez ce que le code fait. Ensuite regardant *seulement les résultats imprimé*, calculer l'accuracy. (Aucun code nécessaire)"
   ]
  },
  {
   "cell_type": "code",
   "execution_count": 108,
   "metadata": {},
   "outputs": [
    {
     "name": "stdout",
     "output_type": "stream",
     "text": [
      "['NO' 'NO' 'NO' 'NO' 'NO' 'NO' 'NO' 'NO' 'NO' '>30']\n",
      "['>30' 'NO' 'NO' 'NO' '>30' '<30' '<30' '<30' '>30' '>30']\n"
     ]
    },
    {
     "data": {
      "text/plain": [
       "array([[0.16588828, 0.29281308, 0.54129864],\n",
       "       [0.18306546, 0.36632763, 0.45060691],\n",
       "       [0.07238663, 0.34423709, 0.58337629],\n",
       "       [0.13110642, 0.42853222, 0.44036137],\n",
       "       [0.08431581, 0.29006523, 0.62561896],\n",
       "       [0.13051645, 0.35083997, 0.51864359],\n",
       "       [0.07858967, 0.35691398, 0.56449635],\n",
       "       [0.05699364, 0.27004029, 0.67296606],\n",
       "       [0.07272764, 0.34281909, 0.58445327],\n",
       "       [0.12814916, 0.49741987, 0.37443097]])"
      ]
     },
     "execution_count": 108,
     "metadata": {},
     "output_type": "execute_result"
    }
   ],
   "source": [
    "# Afficher la prédiction des dix premiers exemples\n",
    "y_predicted = clf_lr.predict(X_train_sf_encoded[0:10])\n",
    "print(y_predicted)\n",
    "print(y_train[0:10])\n",
    "clf_lr.predict_proba(X_train_sf_encoded[0:10])"
   ]
  },
  {
   "cell_type": "markdown",
   "metadata": {},
   "source": [
    "TO DO - Answers   \n",
    "\n",
    "1) Décrivez c'est quoi y_predicted:  Les valeurs de readmitted prédites par le modèle.\n",
    "2) Décrivez c'est quoi  y_train[0:10]: Les valeurs actuelles de readmitted.\n",
    "3) Décrivez c'est quoi clf_lr.predict_proba(X_train_sf_encoded[0:10]): La fonction retourne les probabilités prédites de chaque classe (<30, >30 NO) pour chaque instance dans X_train_sf_encoded[0:10]\n",
    "4) Quelle est l'accuracy des résultats imprimé? 3/10 = 0.3"
   ]
  },
  {
   "cell_type": "markdown",
   "metadata": {},
   "source": [
    "**5.3 Évaluation du modèle de régression logistique**   \n",
    "Maintenant que nous avons entraîner notre modèle, évaluons ce modèle sur nos données test."
   ]
  },
  {
   "cell_type": "markdown",
   "metadata": {},
   "source": [
    "**<span style='color:#00BB27'>(TO DO) Q6 - 2 marks<span>**  \n",
    "\n",
    "Évaluer le modèle sur les données 'test' en calculant le *score* et comparer les résultats aux données d'entraînement. Imprimer lequel est meilleur et donner une raison pourquoi les résultats sont ainsi."
   ]
  },
  {
   "cell_type": "code",
   "execution_count": 174,
   "metadata": {},
   "outputs": [
    {
     "name": "stdout",
     "output_type": "stream",
     "text": [
      "0.5393043136484229\n",
      "le score d'entraînement est mieux que le score de test.\n",
      "C'est probablement parce qu'il y a beaucoup de poids à apprendre et il n'y a pas suffisamment de données pour le faire.\n",
      "Le modèle a suraprris et donc il prédit mieux l'ensemble d'entraînement.\n",
      "D'ailleurs, il se peut que l'ensemble n'est pas linéairement séparable et donc la régression logistique n'est pas un choix convenable.\n"
     ]
    }
   ],
   "source": [
    "# Utiliser les données test: X_test_sf_encoded\n",
    "\n",
    "# Calculer le score pour test et imprimer le.\n",
    "clf_lr_test_scores = clf_lr.score(X_test_sf_encoded, y_test)\n",
    "print(y_test_predicted)\n",
    "# Comparer le score test et le score d'entraînement\n",
    "if clf_lr_test_scores > clf_lr_scores :\n",
    "    print(\"le score de test est mieux que le score d'entraînement.\")\n",
    "else:\n",
    "    print(\"le score d'entraînement est mieux que le score de test.\")\n",
    "    \n",
    "\n",
    "# Imprimer lequel est meilleure\n",
    "\n",
    "# Donner une raison pourquoi?\n",
    "print(\"C'est probablement parce qu'il y a beaucoup de poids à apprendre et il n'y a pas suffisamment de données pour le faire.\")\n",
    "print(\"Le modèle a suraprris et donc il prédit mieux l'ensemble d'entraînement.\")\n",
    "print(\"D'ailleurs, il se peut que l'ensemble n'est pas linéairement séparable et donc la régression logistique n'est pas un choix convenable.\")"
   ]
  },
  {
   "cell_type": "markdown",
   "metadata": {},
   "source": [
    "**6. Perceptron multi-couches**   \n",
    "Après avoir travaillé avec notre modèle de base, nous allons utiliser le perceptron muti-couches comme classificateur."
   ]
  },
  {
   "cell_type": "markdown",
   "metadata": {},
   "source": [
    "***6.1 Définition du perceptron multi-couches***   \n",
    "On le défini avec l'utilisation de scikit learn."
   ]
  },
  {
   "cell_type": "code",
   "execution_count": 126,
   "metadata": {},
   "outputs": [],
   "source": [
    "# Importation du modèle\n",
    "from sklearn.neural_network import MLPClassifier"
   ]
  },
  {
   "cell_type": "code",
   "execution_count": 127,
   "metadata": {},
   "outputs": [],
   "source": [
    "# Définition du modèle\n",
    "clf_mlp = MLPClassifier(solver='lbfgs', alpha=1e-4, hidden_layer_sizes=(150, 150), random_state=5, max_iter=120, learning_rate_init=0.01, warm_start=True)"
   ]
  },
  {
   "cell_type": "markdown",
   "metadata": {},
   "source": [
    "**<span style='color:#00BB27'>(TO DO) Q7 - 3 points<span>**   \n",
    "Expliquer *en vos mots* les paramètres choisi ci haut. Qu'est-ce qu'ils représentent et comment la sélection de ces valeurs affecterons le modèle. Pour ceux qui ne sont pas familiers, explorez la [documentation officielle] (https://scikit-learn.org/stable/modules/generated/sklearn.neural_network.MLPClassifier.html) et fournissez simplement de courtes phrases sur ce que font les paramètres en fonction de leurs descriptions et vos connaissances."
   ]
  },
  {
   "cell_type": "markdown",
   "metadata": {},
   "source": [
    "Q7 - ANSWER HERE   \n",
    "\n",
    "*solver:* - Un solver pour l'optimisation du poids. ‘lbfgs’ est un optimiseur dans la famille de quasi-Newton méthodes\n",
    "*alpha:* - est un paramètre de régularisation pour l'erreur L2.\n",
    "*hidden_layer_size:* - Le nombre de couche cachées et le nombre d'unités par couche cachée. Dans ce cas, le modèle contient 2\n",
    "couches cachées, et chaque couche contient 150 perceptrons.\n",
    "*random_state:* détermine le nombre aléatoire généré pour l'initialisation du poids et du bias. \n",
    "*max_iter: Le solver va itérer 120 fois avant d'arreter*  \n",
    "*learning_rate_init: - La valeur initiale du facteur d'apprentissage est mis à 0.01*  \n",
    "*warm_start: - Utilise la solution de l'entrainement précédent au lieu de tout recommencer*  "
   ]
  },
  {
   "cell_type": "markdown",
   "metadata": {},
   "source": [
    "***6.2 Entraînemnt, test et discussion du perceptron multi-couches***  \n",
    "Maintenant que le modèle est défini, nous devons l'entraîner avec l'ensemble d'entraînement pour apprendre à classer notre classe cible *readmitted*. Cette fois, nous allons entraîner le modèle avec plusieurs *epochs*. Enfin, nous allons visualiser nos scores, en discuter et les comparer avec le modèle de base."
   ]
  },
  {
   "cell_type": "code",
   "execution_count": 128,
   "metadata": {},
   "outputs": [],
   "source": [
    "def plotScores(scores_train, scores_test):\n",
    "    \"\"\"\n",
    "    Visualizer les scores avec matplotlib.\n",
    "    :param scores_train: Liste des scores d'entrainment\n",
    "    :param scores_test: Liste des scores de test\n",
    "    :return None\n",
    "    \"\"\"\n",
    "    # Visualizer les points\n",
    "    plt.plot([i for i in range(len(scores_train))], scores_train)\n",
    "    plt.plot([i for i in range(len(scores_test))], scores_test)\n",
    "    # Ajouter une légende\n",
    "    plt.legend([\"Train scores\", \"Test Scores\"])\n",
    "    # Renommé les axes\n",
    "    plt.ylabel(\"Score\")\n",
    "    plt.xlabel(\"Epoch\")\n",
    "    plt.show()"
   ]
  },
  {
   "cell_type": "markdown",
   "metadata": {},
   "source": [
    "**<span style='color:#00BB27'>(TO DO) Q8 - 6 points<span>**   \n",
    "    \n",
    "1. Vous devez créer une fonction train_and_evaluate () ci-dessous. Cette fonction doit prendre en entrée un classifieur, un enssemble d'entraînment (attributs et classe cible), un ensemble test (attributs et classe cible) et le nombre d'epochs. Inspirez-vous de la fonction fournie train_model () et entraînez le modèle pour 10 epochs. La fonction doit retourner deux listes de résultats (entraînement et test).\n",
    "2. Une fois défini, entraînez clf_mlp avec train_and_evaluate() pendant dix epochs (cela prendra un certain temps en fonction du matériel de votre machine/hardware. Cela a pris environ 2-3 minutes / époque sur mon laptop).\n",
    "3. Avec les résultats du perceptron mutli-couches, visualisez-les avec la fonction plotScores() ci-dessus.\n",
    "4.  Décrivez le comportement des scores trouvés lors de l'entraînement. Est-ce que le l'ensemble d'entraînement ou de test ont produit les meilleurs résultats? Que signifient ces résultats?* \n",
    "5. Le perceptron à multi-couches a-t-il fait mieux ou pire que le modèle de régression logistique de base (et de combien - pourcentage)? Pourquoi pensez-vous que cela a eu un effet meilleur / pire?\n",
    "6. Ici, nous suivons le score pendant que nous entraînons le modèle. Ceci est utile pour suivre l’évolution de l'entraînement. Compte tenu de votre réponse précédente sur le score, quelle serait une autre métrique utile à suivre pendant l’entraînement. Astuce: que minimisons-nous pendant l'entraînement?"
   ]
  },
  {
   "cell_type": "code",
   "execution_count": 137,
   "metadata": {},
   "outputs": [],
   "source": [
    "# (TO DO) 8.1. Créer la fonction train_and_evaluate\n",
    "def train_and_evaluate(clf, X_train, y_train, X_test, y_test, epochs=10):\n",
    "    \"\"\"\n",
    "    Cette fonction entraîne un model spécifié et retourne une liste \n",
    "    de résultats.\n",
    "    \n",
    "    :param clf: modèle scikit learn\n",
    "    :param X_train: données d'entraînement encodés (attributs)\n",
    "    :param y_train: données d'entraînement (classe à prédire)\n",
    "    :param epochs: défault = 10, nombre d'itérations\n",
    "    :return: résultats (accuracy) pour les données d'entraîne\n",
    "    \"\"\"\n",
    "    scoreTest = []\n",
    "    scoreTrain = []\n",
    "    print(\"Starting training...\")\n",
    "    for i in range(1, epochs + 1):\n",
    "        print(\"Epoch:\" + str(i) + \"/\" + str(epochs) + \" -- \" + str(datetime.datetime.now()))\n",
    "        clf.fit(X_train, y_train)\n",
    "        sTrain = clf.score(X_train, y_train)\n",
    "        sTest = clf.score(X_test, y_test)\n",
    "        scoreTest.append(sTest)\n",
    "        scoreTrain.append(sTrain)\n",
    "    print(\"Done training.\")\n",
    "    return scoreTrain, scoreTest\n",
    "   \n",
    "    \n"
   ]
  },
  {
   "cell_type": "code",
   "execution_count": 138,
   "metadata": {},
   "outputs": [
    {
     "name": "stdout",
     "output_type": "stream",
     "text": [
      "Starting training...\n",
      "Epoch:1/10 -- 2020-10-30 21:32:01.108954\n"
     ]
    },
    {
     "name": "stderr",
     "output_type": "stream",
     "text": [
      "c:\\users\\mahim\\appdata\\local\\programs\\python\\python38\\lib\\site-packages\\sklearn\\neural_network\\_multilayer_perceptron.py:471: ConvergenceWarning: lbfgs failed to converge (status=1):\n",
      "STOP: TOTAL NO. of ITERATIONS REACHED LIMIT.\n",
      "\n",
      "Increase the number of iterations (max_iter) or scale the data as shown in:\n",
      "    https://scikit-learn.org/stable/modules/preprocessing.html\n",
      "  self.n_iter_ = _check_optimize_result(\"lbfgs\", opt_res, self.max_iter)\n"
     ]
    },
    {
     "name": "stdout",
     "output_type": "stream",
     "text": [
      "Epoch:2/10 -- 2020-10-30 21:39:00.700675\n"
     ]
    },
    {
     "name": "stderr",
     "output_type": "stream",
     "text": [
      "c:\\users\\mahim\\appdata\\local\\programs\\python\\python38\\lib\\site-packages\\sklearn\\neural_network\\_multilayer_perceptron.py:471: ConvergenceWarning: lbfgs failed to converge (status=1):\n",
      "STOP: TOTAL NO. of ITERATIONS REACHED LIMIT.\n",
      "\n",
      "Increase the number of iterations (max_iter) or scale the data as shown in:\n",
      "    https://scikit-learn.org/stable/modules/preprocessing.html\n",
      "  self.n_iter_ = _check_optimize_result(\"lbfgs\", opt_res, self.max_iter)\n"
     ]
    },
    {
     "name": "stdout",
     "output_type": "stream",
     "text": [
      "Epoch:3/10 -- 2020-10-30 21:45:57.573464\n"
     ]
    },
    {
     "name": "stderr",
     "output_type": "stream",
     "text": [
      "c:\\users\\mahim\\appdata\\local\\programs\\python\\python38\\lib\\site-packages\\sklearn\\neural_network\\_multilayer_perceptron.py:471: ConvergenceWarning: lbfgs failed to converge (status=1):\n",
      "STOP: TOTAL NO. of ITERATIONS REACHED LIMIT.\n",
      "\n",
      "Increase the number of iterations (max_iter) or scale the data as shown in:\n",
      "    https://scikit-learn.org/stable/modules/preprocessing.html\n",
      "  self.n_iter_ = _check_optimize_result(\"lbfgs\", opt_res, self.max_iter)\n"
     ]
    },
    {
     "name": "stdout",
     "output_type": "stream",
     "text": [
      "Epoch:4/10 -- 2020-10-30 21:52:49.324401\n"
     ]
    },
    {
     "name": "stderr",
     "output_type": "stream",
     "text": [
      "c:\\users\\mahim\\appdata\\local\\programs\\python\\python38\\lib\\site-packages\\sklearn\\neural_network\\_multilayer_perceptron.py:471: ConvergenceWarning: lbfgs failed to converge (status=1):\n",
      "STOP: TOTAL NO. of ITERATIONS REACHED LIMIT.\n",
      "\n",
      "Increase the number of iterations (max_iter) or scale the data as shown in:\n",
      "    https://scikit-learn.org/stable/modules/preprocessing.html\n",
      "  self.n_iter_ = _check_optimize_result(\"lbfgs\", opt_res, self.max_iter)\n"
     ]
    },
    {
     "name": "stdout",
     "output_type": "stream",
     "text": [
      "Epoch:5/10 -- 2020-10-30 22:00:02.128827\n"
     ]
    },
    {
     "name": "stderr",
     "output_type": "stream",
     "text": [
      "c:\\users\\mahim\\appdata\\local\\programs\\python\\python38\\lib\\site-packages\\sklearn\\neural_network\\_multilayer_perceptron.py:471: ConvergenceWarning: lbfgs failed to converge (status=1):\n",
      "STOP: TOTAL NO. of ITERATIONS REACHED LIMIT.\n",
      "\n",
      "Increase the number of iterations (max_iter) or scale the data as shown in:\n",
      "    https://scikit-learn.org/stable/modules/preprocessing.html\n",
      "  self.n_iter_ = _check_optimize_result(\"lbfgs\", opt_res, self.max_iter)\n"
     ]
    },
    {
     "name": "stdout",
     "output_type": "stream",
     "text": [
      "Epoch:6/10 -- 2020-10-30 22:07:09.344220\n"
     ]
    },
    {
     "name": "stderr",
     "output_type": "stream",
     "text": [
      "c:\\users\\mahim\\appdata\\local\\programs\\python\\python38\\lib\\site-packages\\sklearn\\neural_network\\_multilayer_perceptron.py:471: ConvergenceWarning: lbfgs failed to converge (status=1):\n",
      "STOP: TOTAL NO. of ITERATIONS REACHED LIMIT.\n",
      "\n",
      "Increase the number of iterations (max_iter) or scale the data as shown in:\n",
      "    https://scikit-learn.org/stable/modules/preprocessing.html\n",
      "  self.n_iter_ = _check_optimize_result(\"lbfgs\", opt_res, self.max_iter)\n"
     ]
    },
    {
     "name": "stdout",
     "output_type": "stream",
     "text": [
      "Epoch:7/10 -- 2020-10-30 22:14:12.265180\n"
     ]
    },
    {
     "name": "stderr",
     "output_type": "stream",
     "text": [
      "c:\\users\\mahim\\appdata\\local\\programs\\python\\python38\\lib\\site-packages\\sklearn\\neural_network\\_multilayer_perceptron.py:471: ConvergenceWarning: lbfgs failed to converge (status=1):\n",
      "STOP: TOTAL NO. of ITERATIONS REACHED LIMIT.\n",
      "\n",
      "Increase the number of iterations (max_iter) or scale the data as shown in:\n",
      "    https://scikit-learn.org/stable/modules/preprocessing.html\n",
      "  self.n_iter_ = _check_optimize_result(\"lbfgs\", opt_res, self.max_iter)\n"
     ]
    },
    {
     "name": "stdout",
     "output_type": "stream",
     "text": [
      "Epoch:8/10 -- 2020-10-30 22:21:18.164810\n"
     ]
    },
    {
     "name": "stderr",
     "output_type": "stream",
     "text": [
      "c:\\users\\mahim\\appdata\\local\\programs\\python\\python38\\lib\\site-packages\\sklearn\\neural_network\\_multilayer_perceptron.py:471: ConvergenceWarning: lbfgs failed to converge (status=1):\n",
      "STOP: TOTAL NO. of ITERATIONS REACHED LIMIT.\n",
      "\n",
      "Increase the number of iterations (max_iter) or scale the data as shown in:\n",
      "    https://scikit-learn.org/stable/modules/preprocessing.html\n",
      "  self.n_iter_ = _check_optimize_result(\"lbfgs\", opt_res, self.max_iter)\n"
     ]
    },
    {
     "name": "stdout",
     "output_type": "stream",
     "text": [
      "Epoch:9/10 -- 2020-10-30 22:28:25.384144\n"
     ]
    },
    {
     "name": "stderr",
     "output_type": "stream",
     "text": [
      "c:\\users\\mahim\\appdata\\local\\programs\\python\\python38\\lib\\site-packages\\sklearn\\neural_network\\_multilayer_perceptron.py:471: ConvergenceWarning: lbfgs failed to converge (status=1):\n",
      "STOP: TOTAL NO. of ITERATIONS REACHED LIMIT.\n",
      "\n",
      "Increase the number of iterations (max_iter) or scale the data as shown in:\n",
      "    https://scikit-learn.org/stable/modules/preprocessing.html\n",
      "  self.n_iter_ = _check_optimize_result(\"lbfgs\", opt_res, self.max_iter)\n"
     ]
    },
    {
     "name": "stdout",
     "output_type": "stream",
     "text": [
      "Epoch:10/10 -- 2020-10-30 22:35:27.897954\n"
     ]
    },
    {
     "name": "stderr",
     "output_type": "stream",
     "text": [
      "c:\\users\\mahim\\appdata\\local\\programs\\python\\python38\\lib\\site-packages\\sklearn\\neural_network\\_multilayer_perceptron.py:471: ConvergenceWarning: lbfgs failed to converge (status=1):\n",
      "STOP: TOTAL NO. of ITERATIONS REACHED LIMIT.\n",
      "\n",
      "Increase the number of iterations (max_iter) or scale the data as shown in:\n",
      "    https://scikit-learn.org/stable/modules/preprocessing.html\n",
      "  self.n_iter_ = _check_optimize_result(\"lbfgs\", opt_res, self.max_iter)\n"
     ]
    },
    {
     "name": "stdout",
     "output_type": "stream",
     "text": [
      "Done training.\n"
     ]
    }
   ],
   "source": [
    "# (TO DO) 8.2\n",
    "# Entrainer pour *10* époques, pas 1. Ça prendra du temps...\n",
    "# Il se peut qu'un message d'attention soit affiché. Ceci est dû au fait que nous avons ajouté des conditions de stop\n",
    "# En réalité, nous aurions voulu que le modèle s'entraîne pour aussi longtemps que possible pour bien assimiler ou comprendre\n",
    "# les données d'entraînement.\n",
    "train_scores_mlp, test_scores_mlp = train_and_evaluate(clf_mlp, X_train_sf_encoded, y_train, X_test_sf_encoded, y_test,10)"
   ]
  },
  {
   "cell_type": "code",
   "execution_count": 161,
   "metadata": {},
   "outputs": [
    {
     "name": "stdout",
     "output_type": "stream",
     "text": [
      "[0.6509605463568024, 0.6961627278533877, 0.7281973173487938, 0.7552940598437576, 0.7742347565469464, 0.789318527981133, 0.8009261533926203, 0.8092418808038127, 0.817766422640397, 0.825418857170933]\n",
      "[0.49135305099734694, 0.4848678392453572, 0.47558219514591726, 0.46880220104156434, 0.468310897120959, 0.46555959516556944, 0.46683698535914314, 0.46472437850054044, 0.4616291638007271, 0.45961481772624546]\n"
     ]
    },
    {
     "data": {
      "image/png": "[encoded data removed]",
      "text/plain": [
       "<Figure size 432x288 with 1 Axes>"
      ]
     },
     "metadata": {
      "needs_background": "light"
     },
     "output_type": "display_data"
    }
   ],
   "source": [
    "# (TO DO) 8.3. Visualizer les résultats\n",
    "print(train_scores_mlp)\n",
    "print(test_scores_mlp)\n",
    "plotScores(train_scores_mlp,test_scores_mlp)"
   ]
  },
  {
   "cell_type": "markdown",
   "metadata": {},
   "source": [
    "(Réponses courtes)\n",
    "\n",
    "* (TO DO) 8.4. Décrivez le comportement des scores trouvés lors de l'entraînement. Est-ce que le l'ensemble d'entraînement ou de test ont produit les meilleurs résultats? Que signifient ces résultats?*  \n",
    "Pour l'ensemble d'entraînement, le score s'améliore à chaque itération , ce qui veut dire que le modèle prédit de mieux en mieux l'ensemble d'entraînement. Pour l'ensemble de test, le score baisse à chaque itération et donc le modèle le prédit de moins en moins correctement.\n",
    "L'ensemble d'entraînement a produit les meilleurs résultats. \n",
    "\n",
    "* (TO DO) 8.5. Le perceptron à multi-couches a-t-il fait mieux ou pire que le modèle de régression logistique de base (et de combien - pourcentage)? Pourquoi pensez-vous que cela a eu un effet meilleur / pire?*  \n",
    "Le perceptron à multi-couches ] fait pire que le modèle de régression logistique de base car il a un score de 0.4596 tandis que le modèle de régression a un score de 0.539. \n",
    "Le modèle de perceptron à multi-couches a surappris car il y a trop de poids à apprendre pour un ensemble d'entrainement qui n'est pas suffisamment grand. Donc, il prédit de mieux en mieux l'ensemble d'entrainement et de pire en pire les données non-vues.\n",
    "...  \n",
    "\n",
    "* (TO DO) 8.6. Ici, nous suivons le score pendant que nous entraînons le modèle. Ceci est utile pour suivre l’évolution de l'entraînement. Compte tenu de votre réponse précédente sur le score, quelle serait une autre métrique utile à suivre pendant l’entraînement. Astuce: Que minimisons-nous pendant l'entraînement?*  \n",
    "On pourrait suivre l'erreur à la fin de chaque itération.\n",
    "...  "
   ]
  },
  {
   "cell_type": "markdown",
   "metadata": {},
   "source": [
    "**7. Essayer un modèle légèrement différent avec une sélection d'attributs différente**  \n",
    "Maintenant que nous avons parcouru les classificateurs de base et perceptron à multi-couches, essayons un autre perceptron à multi-couches avec une sélection d'attributs plus petite. Cette fois, vous créerez le modèle avec des attributs aléatoires à partir de notre liste d'attributs d'origine. Cette question donne un apperçu de l'ensemble de la tâche."
   ]
  },
  {
   "cell_type": "markdown",
   "metadata": {},
   "source": [
    "**<span style='color:#00BB27'>(TO DO) Q9 - 5 points<span>**  \n",
    "    \n",
    "Créez une nouvelle liste d'attributs contenant seulement quatre attributs aléatoires à partir de la liste *featureSet*. Nous allons nommer cette liste *randomFeatures*. Afficher les attributs sélectionnés.\n",
    "\n",
    "Utilisez ensuite cette liste pour compléter le processus d'encodage à l’aide de *ohe_rand*.\n",
    "\n",
    "Ensuite, utiliser la fonction train_and_evaluate() pour entraîner le modèle clf_rand et visualiser les résultats. \n",
    "\n",
    "Finalement, comparé les résultats de clf_mlp et clf_rand en affichant les scores, dire lequel est meilleure."
   ]
  },
  {
   "cell_type": "code",
   "execution_count": 164,
   "metadata": {},
   "outputs": [
    {
     "name": "stdout",
     "output_type": "stream",
     "text": [
      "['time_in_hospital', 'num_lab_procedures', 'num_procedures', 'num_medications']\n"
     ]
    }
   ],
   "source": [
    "import random\n",
    "\n",
    "# Choisissez un seed\n",
    "random.seed(5) \n",
    "\n",
    "# Définir l'encodeur 'one-hot'\n",
    "ohe_rand = OneHotEncoder(sparse=False, handle_unknown='ignore')\n",
    "\n",
    "# Liste d'attributs disponible pour la sélection aléatoire\n",
    "featureSet = ['race','gender','age', 'weight', 'time_in_hospital', 'num_lab_procedures', 'num_procedures',\n",
    " 'num_medications']\n",
    "\n",
    "# TO DO - Choisissez quatres attributs avec la fonction random\n",
    "randomFeatures = random.choices(featureSet, k = 4)\n",
    "print(randomFeatures)\n",
    "\n",
    "# TO DO - Terminez le processus d'encodage\n",
    "#\n",
    "X_train_rf = X_train[randomFeatures].copy()\n",
    "X_test_rf = X_test[randomFeatures].copy()\n",
    "ohe_rand.fit(X_train_rf)\n",
    "#random_feature_names = ohe_rand.get_feature_names()\n",
    "#print(random_feature_names)\n",
    "X_train_rf_encoded = ohe_rand.transform(X_train_rf)\n",
    "X_test_rf_encoded = ohe_rand.transform(X_test_rf)"
   ]
  },
  {
   "cell_type": "code",
   "execution_count": 165,
   "metadata": {},
   "outputs": [
    {
     "name": "stdout",
     "output_type": "stream",
     "text": [
      "Starting training...\n",
      "Epoch:1/10 -- 2020-10-30 23:15:17.576337\n"
     ]
    },
    {
     "name": "stderr",
     "output_type": "stream",
     "text": [
      "c:\\users\\mahim\\appdata\\local\\programs\\python\\python38\\lib\\site-packages\\sklearn\\neural_network\\_multilayer_perceptron.py:471: ConvergenceWarning: lbfgs failed to converge (status=1):\n",
      "STOP: TOTAL NO. of ITERATIONS REACHED LIMIT.\n",
      "\n",
      "Increase the number of iterations (max_iter) or scale the data as shown in:\n",
      "    https://scikit-learn.org/stable/modules/preprocessing.html\n",
      "  self.n_iter_ = _check_optimize_result(\"lbfgs\", opt_res, self.max_iter)\n"
     ]
    },
    {
     "name": "stdout",
     "output_type": "stream",
     "text": [
      "Epoch:2/10 -- 2020-10-30 23:18:55.228942\n"
     ]
    },
    {
     "name": "stderr",
     "output_type": "stream",
     "text": [
      "c:\\users\\mahim\\appdata\\local\\programs\\python\\python38\\lib\\site-packages\\sklearn\\neural_network\\_multilayer_perceptron.py:471: ConvergenceWarning: lbfgs failed to converge (status=1):\n",
      "STOP: TOTAL NO. of ITERATIONS REACHED LIMIT.\n",
      "\n",
      "Increase the number of iterations (max_iter) or scale the data as shown in:\n",
      "    https://scikit-learn.org/stable/modules/preprocessing.html\n",
      "  self.n_iter_ = _check_optimize_result(\"lbfgs\", opt_res, self.max_iter)\n"
     ]
    },
    {
     "name": "stdout",
     "output_type": "stream",
     "text": [
      "Epoch:3/10 -- 2020-10-30 23:22:39.970606\n"
     ]
    },
    {
     "name": "stderr",
     "output_type": "stream",
     "text": [
      "c:\\users\\mahim\\appdata\\local\\programs\\python\\python38\\lib\\site-packages\\sklearn\\neural_network\\_multilayer_perceptron.py:471: ConvergenceWarning: lbfgs failed to converge (status=1):\n",
      "STOP: TOTAL NO. of ITERATIONS REACHED LIMIT.\n",
      "\n",
      "Increase the number of iterations (max_iter) or scale the data as shown in:\n",
      "    https://scikit-learn.org/stable/modules/preprocessing.html\n",
      "  self.n_iter_ = _check_optimize_result(\"lbfgs\", opt_res, self.max_iter)\n"
     ]
    },
    {
     "name": "stdout",
     "output_type": "stream",
     "text": [
      "Epoch:4/10 -- 2020-10-30 23:26:16.197069\n"
     ]
    },
    {
     "name": "stderr",
     "output_type": "stream",
     "text": [
      "c:\\users\\mahim\\appdata\\local\\programs\\python\\python38\\lib\\site-packages\\sklearn\\neural_network\\_multilayer_perceptron.py:471: ConvergenceWarning: lbfgs failed to converge (status=1):\n",
      "STOP: TOTAL NO. of ITERATIONS REACHED LIMIT.\n",
      "\n",
      "Increase the number of iterations (max_iter) or scale the data as shown in:\n",
      "    https://scikit-learn.org/stable/modules/preprocessing.html\n",
      "  self.n_iter_ = _check_optimize_result(\"lbfgs\", opt_res, self.max_iter)\n"
     ]
    },
    {
     "name": "stdout",
     "output_type": "stream",
     "text": [
      "Epoch:5/10 -- 2020-10-30 23:30:06.481372\n"
     ]
    },
    {
     "name": "stderr",
     "output_type": "stream",
     "text": [
      "c:\\users\\mahim\\appdata\\local\\programs\\python\\python38\\lib\\site-packages\\sklearn\\neural_network\\_multilayer_perceptron.py:471: ConvergenceWarning: lbfgs failed to converge (status=1):\n",
      "STOP: TOTAL NO. of ITERATIONS REACHED LIMIT.\n",
      "\n",
      "Increase the number of iterations (max_iter) or scale the data as shown in:\n",
      "    https://scikit-learn.org/stable/modules/preprocessing.html\n",
      "  self.n_iter_ = _check_optimize_result(\"lbfgs\", opt_res, self.max_iter)\n"
     ]
    },
    {
     "name": "stdout",
     "output_type": "stream",
     "text": [
      "Epoch:6/10 -- 2020-10-30 23:34:02.939249\n"
     ]
    },
    {
     "name": "stderr",
     "output_type": "stream",
     "text": [
      "c:\\users\\mahim\\appdata\\local\\programs\\python\\python38\\lib\\site-packages\\sklearn\\neural_network\\_multilayer_perceptron.py:471: ConvergenceWarning: lbfgs failed to converge (status=1):\n",
      "STOP: TOTAL NO. of ITERATIONS REACHED LIMIT.\n",
      "\n",
      "Increase the number of iterations (max_iter) or scale the data as shown in:\n",
      "    https://scikit-learn.org/stable/modules/preprocessing.html\n",
      "  self.n_iter_ = _check_optimize_result(\"lbfgs\", opt_res, self.max_iter)\n"
     ]
    },
    {
     "name": "stdout",
     "output_type": "stream",
     "text": [
      "Epoch:7/10 -- 2020-10-30 23:37:58.926998\n"
     ]
    },
    {
     "name": "stderr",
     "output_type": "stream",
     "text": [
      "c:\\users\\mahim\\appdata\\local\\programs\\python\\python38\\lib\\site-packages\\sklearn\\neural_network\\_multilayer_perceptron.py:471: ConvergenceWarning: lbfgs failed to converge (status=1):\n",
      "STOP: TOTAL NO. of ITERATIONS REACHED LIMIT.\n",
      "\n",
      "Increase the number of iterations (max_iter) or scale the data as shown in:\n",
      "    https://scikit-learn.org/stable/modules/preprocessing.html\n",
      "  self.n_iter_ = _check_optimize_result(\"lbfgs\", opt_res, self.max_iter)\n"
     ]
    },
    {
     "name": "stdout",
     "output_type": "stream",
     "text": [
      "Epoch:8/10 -- 2020-10-30 23:41:48.245454\n"
     ]
    },
    {
     "name": "stderr",
     "output_type": "stream",
     "text": [
      "c:\\users\\mahim\\appdata\\local\\programs\\python\\python38\\lib\\site-packages\\sklearn\\neural_network\\_multilayer_perceptron.py:471: ConvergenceWarning: lbfgs failed to converge (status=1):\n",
      "STOP: TOTAL NO. of ITERATIONS REACHED LIMIT.\n",
      "\n",
      "Increase the number of iterations (max_iter) or scale the data as shown in:\n",
      "    https://scikit-learn.org/stable/modules/preprocessing.html\n",
      "  self.n_iter_ = _check_optimize_result(\"lbfgs\", opt_res, self.max_iter)\n"
     ]
    },
    {
     "name": "stdout",
     "output_type": "stream",
     "text": [
      "Epoch:9/10 -- 2020-10-30 23:45:46.475020\n"
     ]
    },
    {
     "name": "stderr",
     "output_type": "stream",
     "text": [
      "c:\\users\\mahim\\appdata\\local\\programs\\python\\python38\\lib\\site-packages\\sklearn\\neural_network\\_multilayer_perceptron.py:471: ConvergenceWarning: lbfgs failed to converge (status=1):\n",
      "STOP: TOTAL NO. of ITERATIONS REACHED LIMIT.\n",
      "\n",
      "Increase the number of iterations (max_iter) or scale the data as shown in:\n",
      "    https://scikit-learn.org/stable/modules/preprocessing.html\n",
      "  self.n_iter_ = _check_optimize_result(\"lbfgs\", opt_res, self.max_iter)\n"
     ]
    },
    {
     "name": "stdout",
     "output_type": "stream",
     "text": [
      "Epoch:10/10 -- 2020-10-30 23:49:44.704216\n"
     ]
    },
    {
     "name": "stderr",
     "output_type": "stream",
     "text": [
      "c:\\users\\mahim\\appdata\\local\\programs\\python\\python38\\lib\\site-packages\\sklearn\\neural_network\\_multilayer_perceptron.py:471: ConvergenceWarning: lbfgs failed to converge (status=1):\n",
      "STOP: TOTAL NO. of ITERATIONS REACHED LIMIT.\n",
      "\n",
      "Increase the number of iterations (max_iter) or scale the data as shown in:\n",
      "    https://scikit-learn.org/stable/modules/preprocessing.html\n",
      "  self.n_iter_ = _check_optimize_result(\"lbfgs\", opt_res, self.max_iter)\n"
     ]
    },
    {
     "name": "stdout",
     "output_type": "stream",
     "text": [
      "Done training.\n"
     ]
    }
   ],
   "source": [
    "clf_rand = MLPClassifier(solver='lbfgs', alpha=1e-4, hidden_layer_sizes=(150, 150), random_state=5, max_iter=120, learning_rate_init=0.01, warm_start=True)\n",
    "\n",
    "# TO DO - Entraînez le modèle. Ceci va prendre du temps, alors je vous suggère de vous occupé en attendant et affiché les résultats\n",
    "# ...\n",
    "train_scores_rand, test_scores_rand = train_and_evaluate(clf_rand, X_train_rf_encoded, y_train, X_test_rf_encoded, y_test,10)\n",
    "\n"
   ]
  },
  {
   "cell_type": "code",
   "execution_count": 170,
   "metadata": {},
   "outputs": [
    {
     "name": "stdout",
     "output_type": "stream",
     "text": [
      "clf_mlp\n",
      "[0.6509605463568024, 0.6961627278533877, 0.7281973173487938, 0.7552940598437576, 0.7742347565469464, 0.789318527981133, 0.8009261533926203, 0.8092418808038127, 0.817766422640397, 0.825418857170933]\n",
      "[0.49135305099734694, 0.4848678392453572, 0.47558219514591726, 0.46880220104156434, 0.468310897120959, 0.46555959516556944, 0.46683698535914314, 0.46472437850054044, 0.4616291638007271, 0.45961481772624546]\n"
     ]
    },
    {
     "data": {
      "image/png": "[encoded data removed]",
      "text/plain": [
       "<Figure size 432x288 with 1 Axes>"
      ]
     },
     "metadata": {
      "needs_background": "light"
     },
     "output_type": "display_data"
    },
    {
     "name": "stdout",
     "output_type": "stream",
     "text": [
      "clf_rand\n",
      "[0.6165921485776052, 0.6687711885225766, 0.6927479978381565, 0.7105709232054243, 0.7245369233036899, 0.7350881933867243, 0.7415860069768585, 0.7467572348056798, 0.7516459490001474, 0.7551589446273277]\n",
      "[0.48722609806426254, 0.4802495823916675, 0.47656480298712783, 0.4701287216271986, 0.4686056794733222, 0.46590350790999313, 0.4665913333988405, 0.46271003242605874, 0.4606956863515771, 0.4621204677213324]\n"
     ]
    },
    {
     "data": {
      "image/png": "[encoded data removed]",
      "text/plain": [
       "<Figure size 432x288 with 1 Axes>"
      ]
     },
     "metadata": {
      "needs_background": "light"
     },
     "output_type": "display_data"
    },
    {
     "name": "stdout",
     "output_type": "stream",
     "text": [
      "\n",
      "In general, the trend is the same for clf_mlp and clf_rand as illustrated by their score values\n"
     ]
    }
   ],
   "source": [
    "# TO DO - Comparez les résultats de clf_mlp et clf_rand puis afficher les résultats des deux.\n",
    "# \n",
    "print(\"clf_mlp\")\n",
    "print(train_scores_mlp)\n",
    "print(test_scores_mlp)\n",
    "plotScores(train_scores_mlp,test_scores_mlp)\n",
    "print(\"clf_rand\")\n",
    "print(train_scores_rand)\n",
    "print(test_scores_rand)\n",
    "plotScores(train_scores_rand,test_scores_rand)\n",
    "print(\"\")\n",
    "print(\"In general, the trend is the same for clf_mlp and clf_rand as illustrated by their score values\")\n",
    "\n"
   ]
  },
  {
   "cell_type": "markdown",
   "metadata": {},
   "source": [
    "**8. En regardant la courbe de perte**  \n",
    "Nous ferons une dernière exécution d'un perceptron à multi-couches, mais cette fois-ci, nous utiliserons solver = \"SGD\". Cela nous permet d’observer la courbe de perte au cours de l'entraînement."
   ]
  },
  {
   "cell_type": "code",
   "execution_count": 171,
   "metadata": {},
   "outputs": [],
   "source": [
    "clf_sgd = MLPClassifier(solver='sgd', alpha=1e-4, hidden_layer_sizes=(150, 150), random_state=1, max_iter=150, learning_rate_init=0.1, warm_start=True)"
   ]
  },
  {
   "cell_type": "code",
   "execution_count": 172,
   "metadata": {},
   "outputs": [],
   "source": [
    "def plot_loss(clf):\n",
    "    \"\"\"\n",
    "    Fonction pour visualizer la courbe des pertes.\n",
    "    :param clf: classificateur avec solver=\"SGD\"\n",
    "    :returns: None\n",
    "    \"\"\"\n",
    "    plt.plot(clf.loss_curve_)\n",
    "    plt.ylabel('Loss')\n",
    "    plt.xlabel('Epoch')\n",
    "    plt.show()"
   ]
  },
  {
   "cell_type": "markdown",
   "metadata": {},
   "source": [
    "**<span style='color:#00BB27'>(TO DO) Q10 - 3 points<span>**   \n",
    "    \n",
    "Entrainer et évaluer le modèle en utilisant train_and_evaluate avec paramètre le epochs = 1. Puisqu'on utilise SGD, max_iter signifie le nombre d'epoch, qui est défini à 150 (max_iter=150). \n",
    "\n",
    "Ensuite, illustrez un graph qui montre le 'loss function'. Décrivez ce que le loss function représente et pourquoi il serait important d'y regarder."
   ]
  },
  {
   "cell_type": "code",
   "execution_count": 173,
   "metadata": {},
   "outputs": [
    {
     "name": "stdout",
     "output_type": "stream",
     "text": [
      "Starting training...\n",
      "Epoch:1/1 -- 2020-10-31 00:07:19.000345\n"
     ]
    },
    {
     "name": "stderr",
     "output_type": "stream",
     "text": [
      "c:\\users\\mahim\\appdata\\local\\programs\\python\\python38\\lib\\site-packages\\sklearn\\neural_network\\_multilayer_perceptron.py:582: ConvergenceWarning: Stochastic Optimizer: Maximum iterations (150) reached and the optimization hasn't converged yet.\n",
      "  warnings.warn(\n"
     ]
    },
    {
     "name": "stdout",
     "output_type": "stream",
     "text": [
      "Done training.\n"
     ]
    },
    {
     "data": {
      "text/plain": [
       "'\\n\\n\\n\\n'"
      ]
     },
     "execution_count": 173,
     "metadata": {},
     "output_type": "execute_result"
    }
   ],
   "source": [
    "# Entrainer le modèle en spécifiant epochs =1 \n",
    "# ...\n",
    "train_scores_sgd, test_scores_sgd = train_and_evaluate(clf_sgd, X_train_rf_encoded, y_train, X_test_rf_encoded, y_test,1)\n",
    "\n"
   ]
  },
  {
   "cell_type": "code",
   "execution_count": 176,
   "metadata": {},
   "outputs": [
    {
     "name": "stdout",
     "output_type": "stream",
     "text": [
      "[0.7485260158207635]\n",
      "[0.46349611869902724]\n"
     ]
    },
    {
     "data": {
      "image/png": "[encoded data removed]",
      "text/plain": [
       "<Figure size 432x288 with 1 Axes>"
      ]
     },
     "metadata": {
      "needs_background": "light"
     },
     "output_type": "display_data"
    }
   ],
   "source": [
    "# Plot the loss of clf_sgd\n",
    "print(train_scores_sgd)\n",
    "print(test_scores_sgd)\n",
    "plot_loss(clf_sgd)\n",
    "\n",
    "# Expliquer pourquoi il serait important d'y regarder\n",
    "#Il est important de savoir à quel point les pertes diminuent à la fin de chaque itération.\n",
    "# Pour les 60 premières itérations, les pertes sont assez conséquentes. Après ce point, elles le sont de moins en moins.\n"
   ]
  },
  {
   "cell_type": "markdown",
   "metadata": {},
   "source": [
    "<div class=\"alert alert-info\">  \n",
    "\n",
    "**Optionel 0 points:**   \n",
    "1. Modifiez les hyperparamètres et les attributs pour augmenter les résultats test.\n",
    "\n",
    "\n",
    "2. Utiliser Keras. Ils offrent un wrapper pour Scikit-Learn\n",
    "\n",
    "Note: Vous devez installer keras dabord. En utilisant Keras, vous réduisez le temps que ça prend pour entrainer vos modèles. Voici un exemple de la structure:\n",
    "\n",
    "```python   \n",
    "from keras.models import Sequential\n",
    "from keras.layers import Dense\n",
    "from keras.wrappers.scikit_learn import KerasClassifier\n",
    "\n",
    "def create_model():\n",
    "    model = Sequential()\n",
    "    model.add(Dense(150, input_dim=241, activation=\"relu\"))\n",
    "    model.add(Dense(150, activation=\"relu\"))\n",
    "    model.add(Dense(3, activation=\"softmax\"))\n",
    "    model.compile(loss=\"categorical_crossentropy\", optimizer=\"adam\", metrics=[\"accuracy\"])\n",
    "    return model\n",
    "   \n",
    "model = KerasClassifier(build_fn=create_model, epochs=10)\n",
    "history = model.fit(X_train_sf_encoded, y_train)```\n",
    "</div>"
   ]
  },
  {
   "cell_type": "markdown",
   "metadata": {},
   "source": [
    "#### Signature\n",
    "\n",
    "Je, ----Bhavika Sewpal-------, declare que les réponses inscrites dans ce notebook sont les miennes."
   ]
  },
  {
   "cell_type": "code",
   "execution_count": null,
   "metadata": {},
   "outputs": [],
   "source": []
  }
 ],
 "metadata": {
  "kernelspec": {
   "display_name": "Python 3",
   "language": "python",
   "name": "python3"
  },
  "language_info": {
   "codemirror_mode": {
    "name": "ipython",
    "version": 3
   },
   "file_extension": ".py",
   "mimetype": "text/x-python",
   "name": "python",
   "nbconvert_exporter": "python",
   "pygments_lexer": "ipython3",
   "version": "3.8.5"
  }
 },
 "nbformat": 4,
 "nbformat_minor": 2
}
